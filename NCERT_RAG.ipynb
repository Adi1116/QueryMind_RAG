{
  "cells": [
    {
      "cell_type": "code",
      "source": [
        "!pip -q install langchain openai tiktoken chromadb\n",
        "!pip install langchain-community\n",
        "!pip install pypdf\n",
        "!pip install -qU langchain-cohere"
      ],
      "metadata": {
        "colab": {
          "base_uri": "https://localhost:8080/"
        },
        "collapsed": true,
        "id": "4pWV2pbiR_md",
        "outputId": "23a893ea-06c9-4852-d16c-09e26a93689c"
      },
      "execution_count": null,
      "outputs": [
        {
          "output_type": "stream",
          "name": "stdout",
          "text": [
            "\u001b[?25l     \u001b[90m━━━━━━━━━━━━━━━━━━━━━━━━━━━━━━━━━━━━━━━━\u001b[0m \u001b[32m0.0/67.3 kB\u001b[0m \u001b[31m?\u001b[0m eta \u001b[36m-:--:--\u001b[0m\r\u001b[2K     \u001b[90m━━━━━━━━━━━━━━━━━━━━━━━━━━━━━━━━━━━━━━━━\u001b[0m \u001b[32m67.3/67.3 kB\u001b[0m \u001b[31m5.4 MB/s\u001b[0m eta \u001b[36m0:00:00\u001b[0m\n",
            "\u001b[?25h  Installing build dependencies ... \u001b[?25l\u001b[?25hdone\n",
            "  Getting requirements to build wheel ... \u001b[?25l\u001b[?25hdone\n",
            "  Preparing metadata (pyproject.toml) ... \u001b[?25l\u001b[?25hdone\n",
            "\u001b[2K     \u001b[90m━━━━━━━━━━━━━━━━━━━━━━━━━━━━━━━━━━━━━━━━\u001b[0m \u001b[32m50.4/50.4 kB\u001b[0m \u001b[31m3.7 MB/s\u001b[0m eta \u001b[36m0:00:00\u001b[0m\n",
            "\u001b[2K   \u001b[90m━━━━━━━━━━━━━━━━━━━━━━━━━━━━━━━━━━━━━━━━\u001b[0m \u001b[32m1.0/1.0 MB\u001b[0m \u001b[31m36.4 MB/s\u001b[0m eta \u001b[36m0:00:00\u001b[0m\n",
            "\u001b[2K   \u001b[90m━━━━━━━━━━━━━━━━━━━━━━━━━━━━━━━━━━━━━━━━\u001b[0m \u001b[32m383.7/383.7 kB\u001b[0m \u001b[31m27.6 MB/s\u001b[0m eta \u001b[36m0:00:00\u001b[0m\n",
            "\u001b[2K   \u001b[90m━━━━━━━━━━━━━━━━━━━━━━━━━━━━━━━━━━━━━━━━\u001b[0m \u001b[32m1.2/1.2 MB\u001b[0m \u001b[31m57.2 MB/s\u001b[0m eta \u001b[36m0:00:00\u001b[0m\n",
            "\u001b[2K   \u001b[90m━━━━━━━━━━━━━━━━━━━━━━━━━━━━━━━━━━━━━━━━\u001b[0m \u001b[32m603.0/603.0 kB\u001b[0m \u001b[31m40.3 MB/s\u001b[0m eta \u001b[36m0:00:00\u001b[0m\n",
            "\u001b[2K   \u001b[90m━━━━━━━━━━━━━━━━━━━━━━━━━━━━━━━━━━━━━━━━\u001b[0m \u001b[32m2.4/2.4 MB\u001b[0m \u001b[31m79.3 MB/s\u001b[0m eta \u001b[36m0:00:00\u001b[0m\n",
            "\u001b[2K   \u001b[90m━━━━━━━━━━━━━━━━━━━━━━━━━━━━━━━━━━━━━━━━\u001b[0m \u001b[32m273.8/273.8 kB\u001b[0m \u001b[31m21.5 MB/s\u001b[0m eta \u001b[36m0:00:00\u001b[0m\n",
            "\u001b[2K   \u001b[90m━━━━━━━━━━━━━━━━━━━━━━━━━━━━━━━━━━━━━━━━\u001b[0m \u001b[32m94.7/94.7 kB\u001b[0m \u001b[31m8.0 MB/s\u001b[0m eta \u001b[36m0:00:00\u001b[0m\n",
            "\u001b[2K   \u001b[90m━━━━━━━━━━━━━━━━━━━━━━━━━━━━━━━━━━━━━━━━\u001b[0m \u001b[32m76.4/76.4 kB\u001b[0m \u001b[31m6.6 MB/s\u001b[0m eta \u001b[36m0:00:00\u001b[0m\n",
            "\u001b[2K   \u001b[90m━━━━━━━━━━━━━━━━━━━━━━━━━━━━━━━━━━━━━━━━\u001b[0m \u001b[32m78.0/78.0 kB\u001b[0m \u001b[31m6.3 MB/s\u001b[0m eta \u001b[36m0:00:00\u001b[0m\n",
            "\u001b[2K   \u001b[90m━━━━━━━━━━━━━━━━━━━━━━━━━━━━━━━━━━━━━━━━\u001b[0m \u001b[32m325.2/325.2 kB\u001b[0m \u001b[31m25.5 MB/s\u001b[0m eta \u001b[36m0:00:00\u001b[0m\n",
            "\u001b[2K   \u001b[90m━━━━━━━━━━━━━━━━━━━━━━━━━━━━━━━━━━━━━━━━\u001b[0m \u001b[32m1.9/1.9 MB\u001b[0m \u001b[31m73.5 MB/s\u001b[0m eta \u001b[36m0:00:00\u001b[0m\n",
            "\u001b[2K   \u001b[90m━━━━━━━━━━━━━━━━━━━━━━━━━━━━━━━━━━━━━━━━\u001b[0m \u001b[32m404.4/404.4 kB\u001b[0m \u001b[31m31.0 MB/s\u001b[0m eta \u001b[36m0:00:00\u001b[0m\n",
            "\u001b[2K   \u001b[90m━━━━━━━━━━━━━━━━━━━━━━━━━━━━━━━━━━━━━━━━\u001b[0m \u001b[32m295.8/295.8 kB\u001b[0m \u001b[31m19.9 MB/s\u001b[0m eta \u001b[36m0:00:00\u001b[0m\n",
            "\u001b[2K   \u001b[90m━━━━━━━━━━━━━━━━━━━━━━━━━━━━━━━━━━━━━━━━\u001b[0m \u001b[32m93.2/93.2 kB\u001b[0m \u001b[31m9.0 MB/s\u001b[0m eta \u001b[36m0:00:00\u001b[0m\n",
            "\u001b[2K   \u001b[90m━━━━━━━━━━━━━━━━━━━━━━━━━━━━━━━━━━━━━━━━\u001b[0m \u001b[32m13.2/13.2 MB\u001b[0m \u001b[31m86.7 MB/s\u001b[0m eta \u001b[36m0:00:00\u001b[0m\n",
            "\u001b[2K   \u001b[90m━━━━━━━━━━━━━━━━━━━━━━━━━━━━━━━━━━━━━━━━\u001b[0m \u001b[32m52.5/52.5 kB\u001b[0m \u001b[31m4.3 MB/s\u001b[0m eta \u001b[36m0:00:00\u001b[0m\n",
            "\u001b[2K   \u001b[90m━━━━━━━━━━━━━━━━━━━━━━━━━━━━━━━━━━━━━━━━\u001b[0m \u001b[32m141.9/141.9 kB\u001b[0m \u001b[31m12.3 MB/s\u001b[0m eta \u001b[36m0:00:00\u001b[0m\n",
            "\u001b[2K   \u001b[90m━━━━━━━━━━━━━━━━━━━━━━━━━━━━━━━━━━━━━━━━\u001b[0m \u001b[32m54.4/54.4 kB\u001b[0m \u001b[31m4.7 MB/s\u001b[0m eta \u001b[36m0:00:00\u001b[0m\n",
            "\u001b[2K   \u001b[90m━━━━━━━━━━━━━━━━━━━━━━━━━━━━━━━━━━━━━━━━\u001b[0m \u001b[32m63.7/63.7 kB\u001b[0m \u001b[31m5.2 MB/s\u001b[0m eta \u001b[36m0:00:00\u001b[0m\n",
            "\u001b[2K   \u001b[90m━━━━━━━━━━━━━━━━━━━━━━━━━━━━━━━━━━━━━━━━\u001b[0m \u001b[32m58.3/58.3 kB\u001b[0m \u001b[31m5.1 MB/s\u001b[0m eta \u001b[36m0:00:00\u001b[0m\n",
            "\u001b[2K   \u001b[90m━━━━━━━━━━━━━━━━━━━━━━━━━━━━━━━━━━━━━━━━\u001b[0m \u001b[32m341.4/341.4 kB\u001b[0m \u001b[31m25.6 MB/s\u001b[0m eta \u001b[36m0:00:00\u001b[0m\n",
            "\u001b[2K   \u001b[90m━━━━━━━━━━━━━━━━━━━━━━━━━━━━━━━━━━━━━━━━\u001b[0m \u001b[32m54.5/54.5 kB\u001b[0m \u001b[31m4.7 MB/s\u001b[0m eta \u001b[36m0:00:00\u001b[0m\n",
            "\u001b[2K   \u001b[90m━━━━━━━━━━━━━━━━━━━━━━━━━━━━━━━━━━━━━━━━\u001b[0m \u001b[32m73.2/73.2 kB\u001b[0m \u001b[31m6.4 MB/s\u001b[0m eta \u001b[36m0:00:00\u001b[0m\n",
            "\u001b[2K   \u001b[90m━━━━━━━━━━━━━━━━━━━━━━━━━━━━━━━━━━━━━━━━\u001b[0m \u001b[32m3.4/3.4 MB\u001b[0m \u001b[31m94.5 MB/s\u001b[0m eta \u001b[36m0:00:00\u001b[0m\n",
            "\u001b[2K   \u001b[90m━━━━━━━━━━━━━━━━━━━━━━━━━━━━━━━━━━━━━━━━\u001b[0m \u001b[32m425.7/425.7 kB\u001b[0m \u001b[31m26.3 MB/s\u001b[0m eta \u001b[36m0:00:00\u001b[0m\n",
            "\u001b[2K   \u001b[90m━━━━━━━━━━━━━━━━━━━━━━━━━━━━━━━━━━━━━━━━\u001b[0m \u001b[32m164.1/164.1 kB\u001b[0m \u001b[31m12.9 MB/s\u001b[0m eta \u001b[36m0:00:00\u001b[0m\n",
            "\u001b[2K   \u001b[90m━━━━━━━━━━━━━━━━━━━━━━━━━━━━━━━━━━━━━━━━\u001b[0m \u001b[32m46.0/46.0 kB\u001b[0m \u001b[31m3.8 MB/s\u001b[0m eta \u001b[36m0:00:00\u001b[0m\n",
            "\u001b[2K   \u001b[90m━━━━━━━━━━━━━━━━━━━━━━━━━━━━━━━━━━━━━━━━\u001b[0m \u001b[32m86.8/86.8 kB\u001b[0m \u001b[31m7.7 MB/s\u001b[0m eta \u001b[36m0:00:00\u001b[0m\n",
            "\u001b[?25h  Building wheel for pypika (pyproject.toml) ... \u001b[?25l\u001b[?25hdone\n",
            "Collecting langchain-community\n",
            "  Downloading langchain_community-0.3.2-py3-none-any.whl.metadata (2.8 kB)\n",
            "Requirement already satisfied: PyYAML>=5.3 in /usr/local/lib/python3.10/dist-packages (from langchain-community) (6.0.2)\n",
            "Requirement already satisfied: SQLAlchemy<3,>=1.4 in /usr/local/lib/python3.10/dist-packages (from langchain-community) (2.0.35)\n",
            "Requirement already satisfied: aiohttp<4.0.0,>=3.8.3 in /usr/local/lib/python3.10/dist-packages (from langchain-community) (3.10.9)\n",
            "Collecting dataclasses-json<0.7,>=0.5.7 (from langchain-community)\n",
            "  Downloading dataclasses_json-0.6.7-py3-none-any.whl.metadata (25 kB)\n",
            "Requirement already satisfied: langchain<0.4.0,>=0.3.3 in /usr/local/lib/python3.10/dist-packages (from langchain-community) (0.3.3)\n",
            "Requirement already satisfied: langchain-core<0.4.0,>=0.3.10 in /usr/local/lib/python3.10/dist-packages (from langchain-community) (0.3.10)\n",
            "Requirement already satisfied: langsmith<0.2.0,>=0.1.125 in /usr/local/lib/python3.10/dist-packages (from langchain-community) (0.1.134)\n",
            "Requirement already satisfied: numpy<2,>=1 in /usr/local/lib/python3.10/dist-packages (from langchain-community) (1.26.4)\n",
            "Collecting pydantic-settings<3.0.0,>=2.4.0 (from langchain-community)\n",
            "  Downloading pydantic_settings-2.5.2-py3-none-any.whl.metadata (3.5 kB)\n",
            "Requirement already satisfied: requests<3,>=2 in /usr/local/lib/python3.10/dist-packages (from langchain-community) (2.32.3)\n",
            "Requirement already satisfied: tenacity!=8.4.0,<9.0.0,>=8.1.0 in /usr/local/lib/python3.10/dist-packages (from langchain-community) (8.5.0)\n",
            "Requirement already satisfied: aiohappyeyeballs>=2.3.0 in /usr/local/lib/python3.10/dist-packages (from aiohttp<4.0.0,>=3.8.3->langchain-community) (2.4.3)\n",
            "Requirement already satisfied: aiosignal>=1.1.2 in /usr/local/lib/python3.10/dist-packages (from aiohttp<4.0.0,>=3.8.3->langchain-community) (1.3.1)\n",
            "Requirement already satisfied: attrs>=17.3.0 in /usr/local/lib/python3.10/dist-packages (from aiohttp<4.0.0,>=3.8.3->langchain-community) (24.2.0)\n",
            "Requirement already satisfied: frozenlist>=1.1.1 in /usr/local/lib/python3.10/dist-packages (from aiohttp<4.0.0,>=3.8.3->langchain-community) (1.4.1)\n",
            "Requirement already satisfied: multidict<7.0,>=4.5 in /usr/local/lib/python3.10/dist-packages (from aiohttp<4.0.0,>=3.8.3->langchain-community) (6.1.0)\n",
            "Requirement already satisfied: yarl<2.0,>=1.12.0 in /usr/local/lib/python3.10/dist-packages (from aiohttp<4.0.0,>=3.8.3->langchain-community) (1.13.1)\n",
            "Requirement already satisfied: async-timeout<5.0,>=4.0 in /usr/local/lib/python3.10/dist-packages (from aiohttp<4.0.0,>=3.8.3->langchain-community) (4.0.3)\n",
            "Collecting marshmallow<4.0.0,>=3.18.0 (from dataclasses-json<0.7,>=0.5.7->langchain-community)\n",
            "  Downloading marshmallow-3.22.0-py3-none-any.whl.metadata (7.2 kB)\n",
            "Collecting typing-inspect<1,>=0.4.0 (from dataclasses-json<0.7,>=0.5.7->langchain-community)\n",
            "  Downloading typing_inspect-0.9.0-py3-none-any.whl.metadata (1.5 kB)\n",
            "Requirement already satisfied: langchain-text-splitters<0.4.0,>=0.3.0 in /usr/local/lib/python3.10/dist-packages (from langchain<0.4.0,>=0.3.3->langchain-community) (0.3.0)\n",
            "Requirement already satisfied: pydantic<3.0.0,>=2.7.4 in /usr/local/lib/python3.10/dist-packages (from langchain<0.4.0,>=0.3.3->langchain-community) (2.9.2)\n",
            "Requirement already satisfied: jsonpatch<2.0,>=1.33 in /usr/local/lib/python3.10/dist-packages (from langchain-core<0.4.0,>=0.3.10->langchain-community) (1.33)\n",
            "Requirement already satisfied: packaging<25,>=23.2 in /usr/local/lib/python3.10/dist-packages (from langchain-core<0.4.0,>=0.3.10->langchain-community) (24.1)\n",
            "Requirement already satisfied: typing-extensions>=4.7 in /usr/local/lib/python3.10/dist-packages (from langchain-core<0.4.0,>=0.3.10->langchain-community) (4.12.2)\n",
            "Requirement already satisfied: httpx<1,>=0.23.0 in /usr/local/lib/python3.10/dist-packages (from langsmith<0.2.0,>=0.1.125->langchain-community) (0.27.2)\n",
            "Requirement already satisfied: orjson<4.0.0,>=3.9.14 in /usr/local/lib/python3.10/dist-packages (from langsmith<0.2.0,>=0.1.125->langchain-community) (3.10.7)\n",
            "Requirement already satisfied: requests-toolbelt<2.0.0,>=1.0.0 in /usr/local/lib/python3.10/dist-packages (from langsmith<0.2.0,>=0.1.125->langchain-community) (1.0.0)\n",
            "Requirement already satisfied: python-dotenv>=0.21.0 in /usr/local/lib/python3.10/dist-packages (from pydantic-settings<3.0.0,>=2.4.0->langchain-community) (1.0.1)\n",
            "Requirement already satisfied: charset-normalizer<4,>=2 in /usr/local/lib/python3.10/dist-packages (from requests<3,>=2->langchain-community) (3.3.2)\n",
            "Requirement already satisfied: idna<4,>=2.5 in /usr/local/lib/python3.10/dist-packages (from requests<3,>=2->langchain-community) (3.10)\n",
            "Requirement already satisfied: urllib3<3,>=1.21.1 in /usr/local/lib/python3.10/dist-packages (from requests<3,>=2->langchain-community) (2.2.3)\n",
            "Requirement already satisfied: certifi>=2017.4.17 in /usr/local/lib/python3.10/dist-packages (from requests<3,>=2->langchain-community) (2024.8.30)\n",
            "Requirement already satisfied: greenlet!=0.4.17 in /usr/local/lib/python3.10/dist-packages (from SQLAlchemy<3,>=1.4->langchain-community) (3.1.1)\n",
            "Requirement already satisfied: anyio in /usr/local/lib/python3.10/dist-packages (from httpx<1,>=0.23.0->langsmith<0.2.0,>=0.1.125->langchain-community) (3.7.1)\n",
            "Requirement already satisfied: httpcore==1.* in /usr/local/lib/python3.10/dist-packages (from httpx<1,>=0.23.0->langsmith<0.2.0,>=0.1.125->langchain-community) (1.0.6)\n",
            "Requirement already satisfied: sniffio in /usr/local/lib/python3.10/dist-packages (from httpx<1,>=0.23.0->langsmith<0.2.0,>=0.1.125->langchain-community) (1.3.1)\n",
            "Requirement already satisfied: h11<0.15,>=0.13 in /usr/local/lib/python3.10/dist-packages (from httpcore==1.*->httpx<1,>=0.23.0->langsmith<0.2.0,>=0.1.125->langchain-community) (0.14.0)\n",
            "Requirement already satisfied: jsonpointer>=1.9 in /usr/local/lib/python3.10/dist-packages (from jsonpatch<2.0,>=1.33->langchain-core<0.4.0,>=0.3.10->langchain-community) (3.0.0)\n",
            "Requirement already satisfied: annotated-types>=0.6.0 in /usr/local/lib/python3.10/dist-packages (from pydantic<3.0.0,>=2.7.4->langchain<0.4.0,>=0.3.3->langchain-community) (0.7.0)\n",
            "Requirement already satisfied: pydantic-core==2.23.4 in /usr/local/lib/python3.10/dist-packages (from pydantic<3.0.0,>=2.7.4->langchain<0.4.0,>=0.3.3->langchain-community) (2.23.4)\n",
            "Collecting mypy-extensions>=0.3.0 (from typing-inspect<1,>=0.4.0->dataclasses-json<0.7,>=0.5.7->langchain-community)\n",
            "  Downloading mypy_extensions-1.0.0-py3-none-any.whl.metadata (1.1 kB)\n",
            "Requirement already satisfied: exceptiongroup in /usr/local/lib/python3.10/dist-packages (from anyio->httpx<1,>=0.23.0->langsmith<0.2.0,>=0.1.125->langchain-community) (1.2.2)\n",
            "Downloading langchain_community-0.3.2-py3-none-any.whl (2.4 MB)\n",
            "\u001b[2K   \u001b[90m━━━━━━━━━━━━━━━━━━━━━━━━━━━━━━━━━━━━━━━━\u001b[0m \u001b[32m2.4/2.4 MB\u001b[0m \u001b[31m61.5 MB/s\u001b[0m eta \u001b[36m0:00:00\u001b[0m\n",
            "\u001b[?25hDownloading dataclasses_json-0.6.7-py3-none-any.whl (28 kB)\n",
            "Downloading pydantic_settings-2.5.2-py3-none-any.whl (26 kB)\n",
            "Downloading marshmallow-3.22.0-py3-none-any.whl (49 kB)\n",
            "\u001b[2K   \u001b[90m━━━━━━━━━━━━━━━━━━━━━━━━━━━━━━━━━━━━━━━━\u001b[0m \u001b[32m49.3/49.3 kB\u001b[0m \u001b[31m4.6 MB/s\u001b[0m eta \u001b[36m0:00:00\u001b[0m\n",
            "\u001b[?25hDownloading typing_inspect-0.9.0-py3-none-any.whl (8.8 kB)\n",
            "Downloading mypy_extensions-1.0.0-py3-none-any.whl (4.7 kB)\n",
            "Installing collected packages: mypy-extensions, marshmallow, typing-inspect, pydantic-settings, dataclasses-json, langchain-community\n",
            "Successfully installed dataclasses-json-0.6.7 langchain-community-0.3.2 marshmallow-3.22.0 mypy-extensions-1.0.0 pydantic-settings-2.5.2 typing-inspect-0.9.0\n",
            "Collecting pypdf\n",
            "  Downloading pypdf-5.0.1-py3-none-any.whl.metadata (7.4 kB)\n",
            "Requirement already satisfied: typing_extensions>=4.0 in /usr/local/lib/python3.10/dist-packages (from pypdf) (4.12.2)\n",
            "Downloading pypdf-5.0.1-py3-none-any.whl (294 kB)\n",
            "\u001b[2K   \u001b[90m━━━━━━━━━━━━━━━━━━━━━━━━━━━━━━━━━━━━━━━━\u001b[0m \u001b[32m294.5/294.5 kB\u001b[0m \u001b[31m11.2 MB/s\u001b[0m eta \u001b[36m0:00:00\u001b[0m\n",
            "\u001b[?25hInstalling collected packages: pypdf\n",
            "Successfully installed pypdf-5.0.1\n",
            "\u001b[2K   \u001b[90m━━━━━━━━━━━━━━━━━━━━━━━━━━━━━━━━━━━━━━━━\u001b[0m \u001b[32m44.0/44.0 kB\u001b[0m \u001b[31m3.6 MB/s\u001b[0m eta \u001b[36m0:00:00\u001b[0m\n",
            "\u001b[2K   \u001b[90m━━━━━━━━━━━━━━━━━━━━━━━━━━━━━━━━━━━━━━━━\u001b[0m \u001b[32m249.2/249.2 kB\u001b[0m \u001b[31m14.8 MB/s\u001b[0m eta \u001b[36m0:00:00\u001b[0m\n",
            "\u001b[2K   \u001b[90m━━━━━━━━━━━━━━━━━━━━━━━━━━━━━━━━━━━━━━━━\u001b[0m \u001b[32m208.1/208.1 kB\u001b[0m \u001b[31m13.5 MB/s\u001b[0m eta \u001b[36m0:00:00\u001b[0m\n",
            "\u001b[2K   \u001b[90m━━━━━━━━━━━━━━━━━━━━━━━━━━━━━━━━━━━━━━━━\u001b[0m \u001b[32m139.1/139.1 kB\u001b[0m \u001b[31m11.2 MB/s\u001b[0m eta \u001b[36m0:00:00\u001b[0m\n",
            "\u001b[2K   \u001b[90m━━━━━━━━━━━━━━━━━━━━━━━━━━━━━━━━━━━━━━━━\u001b[0m \u001b[32m3.1/3.1 MB\u001b[0m \u001b[31m50.2 MB/s\u001b[0m eta \u001b[36m0:00:00\u001b[0m\n",
            "\u001b[2K   \u001b[90m━━━━━━━━━━━━━━━━━━━━━━━━━━━━━━━━━━━━━━━━\u001b[0m \u001b[32m1.6/1.6 MB\u001b[0m \u001b[31m66.0 MB/s\u001b[0m eta \u001b[36m0:00:00\u001b[0m\n",
            "\u001b[2K   \u001b[90m━━━━━━━━━━━━━━━━━━━━━━━━━━━━━━━━━━━━━━━━\u001b[0m \u001b[32m60.8/60.8 kB\u001b[0m \u001b[31m5.4 MB/s\u001b[0m eta \u001b[36m0:00:00\u001b[0m\n",
            "\u001b[2K   \u001b[90m━━━━━━━━━━━━━━━━━━━━━━━━━━━━━━━━━━━━━━━━\u001b[0m \u001b[32m12.6/12.6 MB\u001b[0m \u001b[31m101.4 MB/s\u001b[0m eta \u001b[36m0:00:00\u001b[0m\n",
            "\u001b[2K   \u001b[90m━━━━━━━━━━━━━━━━━━━━━━━━━━━━━━━━━━━━━━━━\u001b[0m \u001b[32m82.6/82.6 kB\u001b[0m \u001b[31m7.1 MB/s\u001b[0m eta \u001b[36m0:00:00\u001b[0m\n",
            "\u001b[2K   \u001b[90m━━━━━━━━━━━━━━━━━━━━━━━━━━━━━━━━━━━━━━━━\u001b[0m \u001b[32m388.4/388.4 kB\u001b[0m \u001b[31m28.4 MB/s\u001b[0m eta \u001b[36m0:00:00\u001b[0m\n",
            "\u001b[2K   \u001b[90m━━━━━━━━━━━━━━━━━━━━━━━━━━━━━━━━━━━━━━━━\u001b[0m \u001b[32m147.8/147.8 kB\u001b[0m \u001b[31m11.4 MB/s\u001b[0m eta \u001b[36m0:00:00\u001b[0m\n",
            "\u001b[2K   \u001b[90m━━━━━━━━━━━━━━━━━━━━━━━━━━━━━━━━━━━━━━━━\u001b[0m \u001b[32m82.1/82.1 kB\u001b[0m \u001b[31m6.6 MB/s\u001b[0m eta \u001b[36m0:00:00\u001b[0m\n",
            "\u001b[2K   \u001b[90m━━━━━━━━━━━━━━━━━━━━━━━━━━━━━━━━━━━━━━━━\u001b[0m \u001b[32m119.4/119.4 kB\u001b[0m \u001b[31m10.9 MB/s\u001b[0m eta \u001b[36m0:00:00\u001b[0m\n",
            "\u001b[2K   \u001b[90m━━━━━━━━━━━━━━━━━━━━━━━━━━━━━━━━━━━━━━━━\u001b[0m \u001b[32m26.7/26.7 MB\u001b[0m \u001b[31m38.6 MB/s\u001b[0m eta \u001b[36m0:00:00\u001b[0m\n",
            "\u001b[2K   \u001b[90m━━━━━━━━━━━━━━━━━━━━━━━━━━━━━━━━━━━━━━━━\u001b[0m \u001b[32m5.7/5.7 MB\u001b[0m \u001b[31m65.0 MB/s\u001b[0m eta \u001b[36m0:00:00\u001b[0m\n",
            "\u001b[2K   \u001b[90m━━━━━━━━━━━━━━━━━━━━━━━━━━━━━━━━━━━━━━━━\u001b[0m \u001b[32m134.8/134.8 kB\u001b[0m \u001b[31m11.1 MB/s\u001b[0m eta \u001b[36m0:00:00\u001b[0m\n",
            "\u001b[2K   \u001b[90m━━━━━━━━━━━━━━━━━━━━━━━━━━━━━━━━━━━━━━━━\u001b[0m \u001b[32m56.8/56.8 kB\u001b[0m \u001b[31m4.3 MB/s\u001b[0m eta \u001b[36m0:00:00\u001b[0m\n",
            "\u001b[2K   \u001b[90m━━━━━━━━━━━━━━━━━━━━━━━━━━━━━━━━━━━━━━━━\u001b[0m \u001b[32m233.2/233.2 kB\u001b[0m \u001b[31m17.8 MB/s\u001b[0m eta \u001b[36m0:00:00\u001b[0m\n",
            "\u001b[2K   \u001b[90m━━━━━━━━━━━━━━━━━━━━━━━━━━━━━━━━━━━━━━━━\u001b[0m \u001b[32m128.2/128.2 kB\u001b[0m \u001b[31m11.3 MB/s\u001b[0m eta \u001b[36m0:00:00\u001b[0m\n",
            "\u001b[2K   \u001b[90m━━━━━━━━━━━━━━━━━━━━━━━━━━━━━━━━━━━━━━━━\u001b[0m \u001b[32m85.0/85.0 kB\u001b[0m \u001b[31m7.4 MB/s\u001b[0m eta \u001b[36m0:00:00\u001b[0m\n",
            "\u001b[2K   \u001b[90m━━━━━━━━━━━━━━━━━━━━━━━━━━━━━━━━━━━━━━━━\u001b[0m \u001b[32m52.8/52.8 kB\u001b[0m \u001b[31m4.2 MB/s\u001b[0m eta \u001b[36m0:00:00\u001b[0m\n",
            "\u001b[2K   \u001b[90m━━━━━━━━━━━━━━━━━━━━━━━━━━━━━━━━━━━━━━━━\u001b[0m \u001b[32m565.6/565.6 kB\u001b[0m \u001b[31m35.9 MB/s\u001b[0m eta \u001b[36m0:00:00\u001b[0m\n",
            "\u001b[2K   \u001b[90m━━━━━━━━━━━━━━━━━━━━━━━━━━━━━━━━━━━━━━━━\u001b[0m \u001b[32m207.3/207.3 kB\u001b[0m \u001b[31m17.4 MB/s\u001b[0m eta \u001b[36m0:00:00\u001b[0m\n",
            "\u001b[2K   \u001b[90m━━━━━━━━━━━━━━━━━━━━━━━━━━━━━━━━━━━━━━━━\u001b[0m \u001b[32m203.2/203.2 kB\u001b[0m \u001b[31m12.8 MB/s\u001b[0m eta \u001b[36m0:00:00\u001b[0m\n",
            "\u001b[2K   \u001b[90m━━━━━━━━━━━━━━━━━━━━━━━━━━━━━━━━━━━━━━━━\u001b[0m \u001b[32m78.6/78.6 kB\u001b[0m \u001b[31m6.6 MB/s\u001b[0m eta \u001b[36m0:00:00\u001b[0m\n",
            "\u001b[2K   \u001b[90m━━━━━━━━━━━━━━━━━━━━━━━━━━━━━━━━━━━━━━━━\u001b[0m \u001b[32m62.7/62.7 kB\u001b[0m \u001b[31m5.5 MB/s\u001b[0m eta \u001b[36m0:00:00\u001b[0m\n",
            "\u001b[?25h"
          ]
        }
      ]
    },
    {
      "cell_type": "code",
      "execution_count": null,
      "metadata": {
        "colab": {
          "base_uri": "https://localhost:8080/"
        },
        "id": "J-KFB7J_u_3L",
        "outputId": "2e7082a6-c7e1-4dab-c7ee-337f0a16f1da",
        "collapsed": true
      },
      "outputs": [
        {
          "output_type": "stream",
          "name": "stdout",
          "text": [
            "Name: langchain\n",
            "Version: 0.3.3\n",
            "Summary: Building applications with LLMs through composability\n",
            "Home-page: https://github.com/langchain-ai/langchain\n",
            "Author: \n",
            "Author-email: \n",
            "License: MIT\n",
            "Location: /usr/local/lib/python3.10/dist-packages\n",
            "Requires: aiohttp, async-timeout, langchain-core, langchain-text-splitters, langsmith, numpy, pydantic, PyYAML, requests, SQLAlchemy, tenacity\n",
            "Required-by: langchain-community\n"
          ]
        }
      ],
      "source": [
        "!pip show langchain"
      ]
    },
    {
      "cell_type": "markdown",
      "metadata": {
        "id": "HqwsGJDhvAQ5"
      },
      "source": [
        "## Setting up LangChain\n"
      ]
    },
    {
      "cell_type": "code",
      "execution_count": null,
      "metadata": {
        "id": "XHVE9uFb3Ajj"
      },
      "outputs": [],
      "source": [
        "from langchain.vectorstores import Chroma"
      ]
    },
    {
      "cell_type": "markdown",
      "metadata": {
        "id": "9UcQKUId3X2M"
      },
      "source": [
        "## Load multiple and process documents"
      ]
    },
    {
      "cell_type": "code",
      "source": [
        "from langchain_community.document_loaders import PyPDFLoader"
      ],
      "metadata": {
        "id": "Cf09nL8pccFL"
      },
      "execution_count": null,
      "outputs": []
    },
    {
      "cell_type": "code",
      "source": [
        "from langchain.document_loaders import DirectoryLoader\n",
        "from langchain.text_splitter import CharacterTextSplitter\n",
        "loader = PyPDFLoader(\"/content/iesc111.pdf\")\n",
        "docs = loader.load()\n",
        "text_splitter = CharacterTextSplitter(\n",
        "        chunk_size=800,\n",
        "        chunk_overlap=50\n",
        "    )\n",
        "docs_split = text_splitter.split_documents(docs)"
      ],
      "metadata": {
        "id": "9HZE0KSGZcE4"
      },
      "execution_count": null,
      "outputs": []
    },
    {
      "cell_type": "code",
      "source": [
        "# prompt: how to find number of chunks created in above line of code ?\n",
        "\n",
        "print(len(docs_split))\n"
      ],
      "metadata": {
        "colab": {
          "base_uri": "https://localhost:8080/"
        },
        "id": "LUj935u7nb8F",
        "outputId": "2f336691-e3ba-426d-ceb0-14acaab3d8db"
      },
      "execution_count": null,
      "outputs": [
        {
          "output_type": "stream",
          "name": "stdout",
          "text": [
            "14\n"
          ]
        }
      ]
    },
    {
      "cell_type": "code",
      "source": [
        "docs_split"
      ],
      "metadata": {
        "colab": {
          "base_uri": "https://localhost:8080/"
        },
        "id": "7Vi0DUDEZuPl",
        "outputId": "ac074155-03e2-4240-c1c4-b4e2d8c70b30",
        "collapsed": true
      },
      "execution_count": null,
      "outputs": [
        {
          "output_type": "execute_result",
          "data": {
            "text/plain": [
              "[Document(metadata={'source': '/content/iesc111.pdf', 'page': 0}, page_content='Everyday we hear sounds from various\\nsources like humans, bir ds, bells, machines,\\nvehicles, televisions, radios etc. Sound is a\\nform of ener gy which pr oduces a sensation\\nof hearing in our ears. Ther e are also other\\nforms of energy like mechanical energy, light\\nenergy, etc. W e have talked about mechanical\\nenergy in the pr evious chapters. Y ou have\\nbeen taught about conservation of energy,\\nwhich states that we can neither create nor\\ndestr oy ener gy. W e  can just change it fr om\\none for m to another . When you clap, a sound\\nis produced. Can you produce sound without\\nutilising your energy? Which form of energy\\ndid you use to produce sound? In this\\nchapter we are going to learn how sound is\\nproduced and how it is transmitted through\\na medium and received by our ears.\\n11.1 Production of Sound\\nActivity _____________ 11.1\\n•Take a tuning fork and set it vibrating\\nby striking its pr ong on a rubber pad.\\nBring it near your ear .\\n•Do you hear any sound?\\n•Touch one of the pr ongs of the vibrating\\ntuning fork with your finger and shar e\\nyour experience with your friends.\\n•Now, suspend a table tennis ball or a\\nsmall plastic ball by a thr ead fr om a\\nsupport [T ake a big needle and a\\nthread, put a knot at one end of the\\nthread, and then with the help of the\\nneedle pass the thr ead thr ough the\\nball]. T ouch the ball gently with the\\nprong of a vibrating tuning\\nfork (Fig. 11.1).\\n•Observe what happens and discuss\\nwith your friends.Activity _____________ 11.2\\n•Fill water in a beaker or a glass up to\\nthe brim. Gently touch the water sur face\\nwith one of the pr ongs of the vibrating\\ntuning fork, as shown in Fig. 1 1.2.\\n•Next dip the pr ongs of the vibrating\\ntuning fork in water , as shown in Fig.\\n11.3.\\n•Observe what happens in both the\\ncases.\\n•Discuss with your friends why this\\nhappens.Fig. 11.1:  Vibrating tuning fork just touching the\\nsuspended table tennis ball.\\nFig. 11.2:   One of the prongs of the vibrating tuning\\nfork touching the water sur face.11\\nSSS\\nSSOUND OUNDOUND OUNDOUNDChapter\\nRationalised 2023-24'),\n",
              " Document(metadata={'source': '/content/iesc111.pdf', 'page': 1}, page_content='SCIENCE 128the vibrating object to the ear . A particle of\\nthe medium in contact with the vibrating\\nobject is first displaced fr om its equilibrium\\nposition. It then exerts a for ce on the adjacent\\nparticle. As a r esult of which the adjacent\\nparticle gets displaced fr om its position of\\nrest. After displacing the adjacent particle the\\nfirst particle comes back to its original\\nposition. This pr ocess continues in the\\nmedium till the sound r eaches your ear . The\\ndisturbance created by a source of  sound in\\nthe medium travels through the medium and\\nnot the particles of the medium.\\nA wave is a disturbance that moves\\nthrough a medium when the particles of the\\nmedium set neighbouring particles into\\nmotion. They in tur n produce similar motion\\nin others. The particles of the medium do not\\nmove forwar d themselves, but the\\ndisturbance is carried forwar d. This is what\\nhappens during pr opagation of sound in a\\nmedium, hence sound can be visualised as a\\nwave. Sound waves are characterised by the\\nmotion of particles in the medium and ar e\\ncalled mechanical waves.\\nAir is the most common medium thr ough\\nwhich sound travels. When a vibrating object\\nmoves forward, it pushes and compresses the\\nair in front of it creating a region of high\\npressur e. This r egion is called a compr ession\\n(C), as shown in Fig. 11.4. This compression\\nstarts to move away from the vibrating object.\\nWhen the vibrating object moves backwar ds,\\nit creates a r egion of low pr essur e called\\nrarefaction (R), as shown in Fig. 11.4. As the\\nobject moves back and forth rapidly, a series\\nof compressions and rarefactions is created in\\nthe air . These make the sound wave thatFig. 11.3: Both the prongs of the vibrating tuning\\nfork dipped in water\\nFrom the above activities what do you\\nconclude? Can you pr oduce sound without\\na vibrating object?\\nIn the above activities we have pr oduced\\nsound by striking the tuning fork. W e can\\nalso pr oduce sound by plucking, scratching,\\nrubbing, blowing or shaking dif ferent objects.\\nAs per the above activities what do we do to\\nthe objects? W e set the objects vibrating and\\nproduce sound. V ibration means a kind of\\nrapid to and fr o motion of an object. The\\nsound of the human voice is pr oduced due\\nto vibrations in the vocal cor ds. When a bir d\\nflaps its wings, do you hear any sound? Think\\nhow the buzzing sound accompanying a bee\\nis produced. A str etched rubber band when\\nplucked vibrates and produces sound. If you\\nhave never done this, then do it and observe\\nthe vibration of the str etched rubber band.\\nActivity _____________ 11.3\\n•Make a list of different types of\\nmusical instruments and discuss\\nwith your friends which part of the\\ninstrument vibrates to produce\\nsound.\\n11.2Propagation of Sound\\nSound is pr oduced by vibrating objects. The\\nmatter or substance thr ough which sound\\nis transmitted is called a medium. It can be\\nsolid, liquid or gas. Sound moves thr ough a\\nmedium from the point of generation to the\\nlistener . When an object vibrates, it sets the\\nparticles of the medium ar ound it vibrating.\\nThe particles do not travel all the way fromFig. 11.4: A vibrating object creating a series of\\ncompr essions (C) and rar efactions (R) in\\nthe medium.\\nRationalised 2023-24'),\n",
              " Document(metadata={'source': '/content/iesc111.pdf', 'page': 2}, page_content='SOUND 129propagates through the medium.\\nCompr ession is the r egion of high pr essur e\\nand rar efaction is the r egion of low pr essur e.\\nPressur e is related to the number of particles\\nof a medium in a given volume. Mor e density\\nof the particles in the medium gives mor e\\npressur e and vice versa. Thus, pr opagation\\nof sound can be visualised as pr opagation of\\ndensity variations or pr essur e variations in\\nthe medium.\\nuestion\\n1.How does the sound produced by\\na vibrating object in a medium\\nreach your ear?\\n2.Explain how sound is produced\\nby your school bell.\\n3.Why are sound waves called\\nmechanical waves?\\n4.Suppose you and your friend are\\non the moon. W ill you be able to\\nhear any sound pr oduced by\\nyour friend?\\n11.2.1 SOUND  WAVES  ARE LONGITUDINAL\\nWAVES\\nActivity _____________ 11.4\\n•Take a slinky.  Ask your friend to hold\\none end. Y ou hold the other end.\\nNow str etch the slinky as shown in\\nFig. 11.5(a). Then give it a sharp push\\ntowards your friend.\\n•What do you notice? If you move your\\nhand pushing and pulling the slinky\\nalternatively, what will you observe?\\n•If you mark a dot on the slinky, you\\nwill observe that the dot on the slinky\\nwill move back and forth parallel to\\nthe direction of the propagation of the\\ndisturbance.The regions where the coils become closer\\nare called compressions (C) and the regions\\nwhere the coils are further apart are called\\nrarefactions (R). As we already know, sound\\npropagates in the medium as a series of\\ncompressions and rarefactions. Now, we can\\ncompare the propagation of disturbance in a\\nslinky with the sound propagation in the\\nmedium. These waves are called longitudinal\\nwaves. In these waves the individual particles\\nof the medium move in a direction parallel to\\nthe direction of propagation of the disturbance.\\nThe particles do not move from one place to\\nanother but they simply oscillate back and\\nforth about their position of rest. This is\\nexactly how a sound wave propagates, hence\\nsound waves are longitudinal waves.\\nThere is also another type of wave, called\\na transverse wave. In a transverse wave\\nparticles do not oscillate along the direction\\nof wave propagation but oscillate up and down\\nabout their mean position as the wave travels.\\nThus, a transverse wave is the one in which\\nthe individual particles of the medium move\\nabout their mean positions in a direction\\nperpendicular to the direction of wave\\npropagation. When we drop a pebble in a\\npond, the waves you see on the water surface\\nis an example of transverse wave. Light is a\\ntransverse wave but for light, the oscillations\\nare not of the medium particles or their\\npressure or density— it is not a mechanical\\nwave. Y ou will come to know mor e about\\ntransverse waves in higher classes.\\n11.2.2 CHARACTERISTICS  OF A SOUND\\nWAVE\\nWe can describe a sound wave by its\\n•frequency\\n•amplitude and\\n•speed.Q\\nA sound wave in graphic form is shown in\\nFig. 11.6(c), which represents how density and\\npressure change when the sound wave moves\\nin the medium. The density as well as the\\npressure of the medium at a given time varies\\nwith distance, above and below the average\\nvalue of density and pressure. Fig. 11.6(a) and(b)(a)\\nFig. 11.5:  Longitudinal wave in a slinky.\\nRationalised 2023-24'),\n",
              " Document(metadata={'source': '/content/iesc111.pdf', 'page': 3}, page_content='SCIENCE 130Heinrich Rudolph Hertz\\nwas born on 22 February\\n1857 in Hamburg,\\nGermany and educated at\\nthe University of Berlin. He\\nconfirmed J.C. Maxwell’s\\nelectromagnetic theory by\\nhis experiments. He laid the\\nfoundation for future\\ndevelopment of radio, telephone, telegraph\\nand even television. He also discovered the\\nphotoelectric effect which was later\\nexplained by Albert Einstein. The SI unit of\\nfrequency was named as hertz in his honour .Fig. 11.6(b) represent the density and\\npressure variations, respectively, as a sound\\nwave propagates in the medium.\\nCompressions are the regions where\\nparticles are crowded together and\\nrepresented by the upper portion of the curve\\nin Fig. 11.6(c). The peak represents the region\\nof maximum compression. Thus,\\ncompressions are regions where density as\\nwell as pressure is high. Rarefactions are the\\nregions of low pressure where particles are\\nspread apart and are represented by the\\nvalley, that is, the lower portion of the curve\\nin Fig. 11.6(c). A peak is called the crest and a\\nvalley is called the trough of a wave.\\nThe distance between two consecutive\\ncompressions (C) or two consecutive\\nrarefactions (R) is called the wavelength, as\\nshown in Fig. 11.6(c), The wavelength is\\nusually represented by λ (Greek letter\\nlambda). Its SI unit is metre (m).\\nH. R. Hertz\\nFig. 11.6: Sound propagates as density or pressure variations as shown in (a) and (b), (c) represents\\ngraphically the density and pr essur e variations.Frequency tells us how frequently an\\nevent occurs. Suppose you are beating a\\ndrum. How many times you are beating the\\ndrum in unit time is called the frequency of\\nyour beating the drum. W e know that when\\nsound is propagated through a medium, the\\nRationalised 2023-24'),\n",
              " Document(metadata={'source': '/content/iesc111.pdf', 'page': 4}, page_content='SOUND 131How the brain interprets the frequency\\nof an emitted sound is called its pitch. The\\nfaster the vibration of the source, the\\nhigher is the frequency and the higher is\\nthe pitch, as shown in Fig. 11.7. Thus, a\\nhigh pitch sound corresponds to more\\nnumber of compressions and rarefactions\\npassing a fixed point per unit time.\\nObjects of different sizes and conditions\\nvibrate at different frequencies to produce\\nsounds of different pitch.\\nThe magnitude of the maximum\\ndisturbance in the medium on either side of\\nthe mean value is called the amplitude of the\\nwave. It is usually represented by the letter A,as shown in Fig. 11.6(c). For sound its unit\\nwill be that of density or pressure.\\nThe loudness or softness of a sound is\\ndetermined basically by its amplitude. The\\namplitude of the sound wave depends upon\\nthe force with which an object is made to\\nvibrate. If we strike a table lightly, we hear a\\nsoft sound because we produce a sound wavedensity of the medium oscillates between a\\nmaximum value and a minimum value. The\\nchange in density from the maximum value\\nto the minimum value, then again to the\\nmaximum value, makes one complete\\noscillation. The number of such oscillations\\nper unit time is the frequency of the sound\\nwave. If we can count the number of the\\ncompressions or rarefactions that cross us\\nper unit time, we will get the frequency of\\nthe sound wave. It is usually represented by\\nν (Greek letter , nu). Its SI unit is hertz\\n(symbol, Hz).\\nThe time taken by two consecutive\\ncompressions or rarefactions to cross a fixed\\npoint is called the time period of the wave. In\\nother words, we can say that the time taken\\nfor one complete oscillation is called the time\\nperiod of the sound wave. It is represented by\\nthe symbol T. Its SI unit is second (s).\\nFrequency and time period are related as\\nfollows:\\n A violin and a flute may both be played at\\nthe same time in an orchestra. Both sounds\\ntravel through the same medium, that is, air\\nand arrive at our ear at the same time. Both\\nsounds travel at the same speed irrespective\\nof the source. But the sounds we receive are\\ndifferent. This is due to the different\\ncharacteristics associated with the sound.\\nPitch is one of the characteristics.=1vTFig. 11.7:  Low pitch sound has low frequency and\\nhigh pitch of sound has high frequency.\\nFig. 11.8: Soft sound has small amplitude and\\nlouder sound has large amplitude.\\nRationalised 2023-24'),\n",
              " Document(metadata={'source': '/content/iesc111.pdf', 'page': 5}, page_content='SCIENCE 132QQuestions\\n1.Which wave property determines\\n(a) loudness, (b) pitch?\\n2.Guess which sound has a higher\\npitch: guitar or car horn?\\nThe speed of sound is defined as the\\ndistance which a point on a wave, such as a\\ncompression or a rarefaction, travels per unit\\ntime.\\nWe know,\\nspeed, v = distance / time\\n= λ\\nTExample 11.1 A sound wave has a\\nfrequency of 2 kHz and wave length\\n35 cm. How long will it take to travel\\n1.5 km?\\nSolution:\\nGiven,\\nFrequency, ν = 2 kHz = 2000 Hz\\nWavelength, λ = 35 cm = 0.35 m\\nWe know that speed, v of the wave\\n= wavelength × frequency\\nv= λ ν\\n= 0.35 m  2000 Hz = 700 m/s\\nThe time taken by the wave to travel a\\ndistance, d of 1.5 km is\\nThus sound will take 2.1 s to travel a\\ndistance of 1.5 km.\\nuestions\\n1.What ar e wavelength, fr equency,\\ntime period and amplitude of a\\nsound wave?\\n2.How are the wavelength and\\nfrequency of a sound wave\\nrelated to its speed?\\n3.Calculate the wavelength of a\\nsound wave whose fr equency is\\n220 Hz and speed is 440 m/s  in\\na given medium.\\n4.A person is listening to a tone of\\n500 Hz sitting at a distance of\\n450 m from the source of the\\nsound. What is the time interval\\nbetween successive compr essions\\nfrom the source?\\nThe amount of sound energy passing each\\nsecond through unit area is called the intensity\\nof sound. W e sometimes use the ter ms\\n“loudness” and “intensity” interchangeably,\\nbut they are not the same. Loudness is a\\nmeasure of the response of the ear to the sound.\\nEven when two sounds are of equal intensity,\\nwe may hear one as louder than the other\\nsimply because our ear detects it better .of less energy (amplitude). If we hit the table\\nhard we hear a louder sound. Can you tell\\nwhy? A sound wave spreads out from its\\nsource. As it moves away from the source its\\namplitude as well as its loudness decreases.\\nLouder sound can travel a larger distance as\\nit is associated with higher energy. Fig. 11.8\\nshows the wave shapes of a loud and a soft\\nsound of the same frequency.\\nThe quality or timber of sound is that\\ncharacteristic which enables us to distinguish\\none sound from another having the same pitch\\nand loudness. The sound which is more\\npleasant is said to be of a rich quality. A sound\\nof single frequency is called a tone. The sound\\nwhich is produced due to a mixture of several\\nfrequencies is called a note and is pleasant to\\nlisten to. Noise is unpleasant to the ear! Music\\nis pleasant to hear and is of rich quality.\\nHere λ is the wavelength of the sound wave. It\\nis the distance travelled by the sound wave in\\none time period ( T) of the wave. Thus,\\nv = λ ν \\nor v = λ ν\\nThat is, speed = wavelength × frequency.\\nThe speed of sound remains almost the\\nsame for all frequencies in a given medium\\nunder the same physical conditions.\\nRationalised 2023-24'),\n",
              " Document(metadata={'source': '/content/iesc111.pdf', 'page': 6}, page_content='SOUND 133uestion\\n1.Distinguish between loudness\\nand intensity of sound.uestion\\n1.In which of the thr ee media, air ,\\nwater or iron, does sound travel\\nthe fastest at a particular\\ntemperature?\\n11.3 Reflection of Sound\\nSound bounces off a solid or a liquid like a\\nrubber ball bounces off a wall. Like light, sound\\ngets reflected at the surface of a solid or liquid\\nand follows the same laws of reflection as you\\nhave studied in earlier classes. The directions\\nin which the sound is incident and is reflected\\nmake equal angles with the normal to the\\nreflecting surface at the point of incidence, and\\nthe three are in the same plane. An obstacle of\\nlarge size which may be polished or rough is\\nneeded for the reflection of sound waves.\\nActivity _____________ 11.5\\n•Take two identical pipes, as shown in\\nFig. 11.9. Y ou can make the pipes\\nusing chart paper . The length of the\\npipes should be sufficiently long\\nas shown.\\n•Arrange them on a table near a wall.\\n•Keep a clock near the open end of one\\nof the pipes and try to hear the sound\\nof the clock through the other pipe.\\n•Adjust the position of the pipes so\\nthat you can best hear the sound of\\nthe clock.\\n•Now, measure the angles of incidence\\nand reflection and see the\\nrelationship between the angles.\\n•Lift the pipe on the right vertically\\nto a small height and observe\\nwhat happens.\\n(In place of a clock, a mobile phone\\non vibrating mode may also be used.)QQ\\n11.2.3 SPEED OF SOUND  IN DIFFERENT\\nMEDIA\\nSound propagates through a medium at a finite\\nspeed. The sound of a thunder is heard  a little\\nlater than the flash of light is seen. So, we can\\nmake out that sound travels with a speed\\nwhich is much less than the speed of light. The\\nspeed of sound depends on the properties of\\nthe medium thr ough which it travels. Y ou will\\nlearn about this dependence in higher classes.\\nThe speed of sound in a medium depends on\\ntemperature of the medium. The speed of\\nsound decreases when we go from solid to\\ngaseous state. In any medium as we increase\\nthe temperature, the speed of sound increases.\\nFor example, the speed of sound in air is 331\\nm s–1 at 0 ºC and 344 m s–1 at 22 ºC. The speeds\\nof sound at a particular temperature in various\\nmedia ar e listed in T able 11.1. Y ou need not\\nmemorise the values.\\nTable 11.1: Speed of sound in\\ndifferent media at 25 ºC\\nState Substance Speed in m/s\\nSolids Aluminium 6420\\nNickel 6040\\nSteel 5960\\nIron 5950\\nBrass 4700\\nGlass (Flint) 3980\\nLiquids Water (Sea) 1531\\nWater (distilled) 1498\\nEthanol 1207\\nMethanol 1103\\nGases Hydrogen 1284\\nHelium 965\\nAir 346\\nOxygen 316\\nSulphur dioxide 213Fig. 11.9:  Reflection of sound\\nRationalised 2023-24'),\n",
              " Document(metadata={'source': '/content/iesc111.pdf', 'page': 7}, page_content='SCIENCE 13411.3.1 ECHO\\nIf we shout or clap near a suitable reflecting\\nobject such as a tall building or a\\nmountain,we will hear the same sound\\nagain a little  later . This sound which we\\nhear is called an echo. The sensation of\\nsound persists in our brain for about 0.1\\ns. To hear a distinct echo the time interval\\nbetween the original sound and the\\nreflected one must be  at least 0.1s. If we\\ntake the speed of sound to be 344 m/s at a\\ngiven temperatur e, say at 22 ºC in air , the\\nsound must go to the obstacle and reach\\nback the ear of the listener on reflection after\\n0.1s. Hence, the total distance covered by\\nthe sound from the point of generation to\\nthe reflecting surface and back should be\\nat least (344 m/s) × 0.1 s = 34.4 m. Thus,\\nfor hearing distinct echoes, the minimum\\ndistance of the obstacle from the source of\\nsound must be half of this distance, that\\nis, 17.2 m. This distance will change with\\nthe temperatur e of air . Echoes may be hear d\\nmore than once due to successive or\\nmultiple reflections. The rolling of thunder\\nis due to the successive reflections of the\\nsound from a number of reflecting surfaces,\\nsuch as the clouds and the land.\\n11.3.2 REVERBERATION\\nA sound created in a big hall will persist\\nby repeated reflection from the walls until\\nit is reduced to a value where it is no longer\\naudible. The repeated reflection that\\nresults in this persistence of sound is\\ncalled reverberation. In an auditorium or\\nbig hall excessive reverberation is highly\\nundesirable. To reduce reverberation, the\\nroof and walls of the auditorium are\\ngenerally covered with sound-absorbent\\nmaterials like compressed fibreboard,\\nrough plaster or draperies. The seat\\nmaterials are also selected on the basis of\\ntheir sound absorbing properties.\\nExample 11.2  A person clapped his hands\\nnear a cliff and heard the echo after 2 s.What is the distance of the cliff from the\\nperson if the speed of the sound, v is\\ntaken as 346 m s–1?\\nSolution:\\nGiven,\\nSpeed of sound, v = 346 m s–1\\nTime taken for hearing the echo,\\nt = 2 s\\nDistance travelled by the sound\\n= v × t = 346 m s–1 × 2 s = 692 m\\nIn 2 s sound has to travel twice the\\ndistance between the cliff and the\\nperson. Hence, the distance between the\\ncliff and the person\\n= 692 m/2 = 346 m.\\nQ\\nHorn\\nMegaphone\\nFig 11.10:   A megaphone and a horn.uestion\\n1.An echo is heard in 3 s. What is\\nthe distance of the reflecting\\nsurface from the source, given that\\nthe speed of sound is  342  m s–1?\\n11.3.3 USES OF MULTIPLE  REFLECTION\\nOF SOUND\\n1.Megaphones or loudhailers, horns,\\nmusical instruments such as trumpets\\nand shehanais , are all designed to send\\nsound in a particular direction without\\nspreading it in all directions, as shown\\nin Fig 11.10.\\nRationalised 2023-24'),\n",
              " Document(metadata={'source': '/content/iesc111.pdf', 'page': 8}, page_content='SOUND 1352.Stethoscope is a medical instrument\\nused for listening to sounds produced\\nwithin the body, mainly in the heart or\\nlungs. In stethoscopes the sound of the\\npatient’s heartbeat reaches the doctor’s\\nears by multiple reflection of sound, as\\nshown in Fig.11.11.\\nFig. 11.12:  Curved ceiling of a conference hall.Fig. 11.13:  Sound board used in a big hall.\\nuestion\\n1.Why are the ceilings of concert\\nhalls curved?\\n11.4Range of Hearing\\nThe audible range of sound for human beings\\nextends from about 20 Hz to 20000 Hz (one\\nHz = one cycle/s). Children under the age of\\nfive and some animals, such as dogs can hear\\nup to 25 kHz (1 kHz = 1000 Hz). As people\\ngrow older their ears become less sensitive to\\nhigher frequencies. Sounds of frequencies\\nbelow 20 Hz are called infrasonic sound or\\ninfrasound. If we could hear infrasound we\\nwould hear the vibrations of a pendulum just\\nas we hear the vibrations of the wings of a bee.\\nRhinoceroses communicate using infrasound\\nof frequency as low as 5 Hz. Whales and\\nelephants produce sound in the infrasound\\nrange. It is observed that some animals get\\ndisturbed before earthquakes. Earthquakes\\nproduce low-frequency infrasound before the\\nmain shock waves begin which possibly alert\\nthe animals. Frequencies higher than 20 kHz\\nare called ultrasonic sound or ultrasound.\\nUltrasound is produced by animals such as\\ndolphins, bats and porpoises. Moths of certain\\nfamilies have very sensitive hearing equipment.\\nThese moths can hear the high frequencyQ\\nFig.11.11:  Stethoscope\\n3.Generally the ceilings of concert halls,\\nconference halls and cinema halls are\\ncurved so that sound after reflection\\nreaches all corners of the hall, as\\nshown in Fig 1 1.12. Sometimes a\\ncurved soundboard may be placed\\nbehind the stage so that the sound,\\nafter reflecting from the sound board,\\nspreads evenly across the width of the\\nhall (Fig 1 1.13).In these instruments, a tube followed\\nby a conical opening reflects sound\\nsuccessively to guide most of the\\nsound waves from the source in the\\nforward direction towards the\\naudience.\\nRationalised 2023-24'),\n",
              " Document(metadata={'source': '/content/iesc111.pdf', 'page': 9}, page_content='SCIENCE 136squeaks of the bat and know when a bat\\nis flying nearby, and are able to escape\\ncapture. Rats also play games by\\nproducing ultrasound.\\nHearing Aid: People with hearing loss may\\nneed a hearing aid. A hearing aid is an\\nelectronic, battery operated device. The\\nhearing aid receives sound through a\\nmicrophone. The microphone converts the\\nsound waves to electrical signals. These\\nelectrical signals are amplified by an\\namplifier . The amplified electrical signals\\nare given to a speaker of the hearing aid.\\nThe speaker converts the amplified\\nelectrical signal to sound and sends to the\\near for clear hearing.in construction of big structures like\\nbuildings, bridges, machines and also\\nscientific equipment. The cracks or\\nholes inside the metal blocks, which\\nare invisible from outside reduces the\\nstrength of the structure. Ultrasonic\\nwaves are allowed to pass through the\\nmetal block and detectors are used to\\ndetect the transmitted waves. If there\\nis even a small defect, the ultrasound\\ngets reflected back indicating the\\npresence of the flaw or defect, as shown\\nin Fig. 11.14.\\nQ\\nMetallic components are generally useduestions\\n1.What is the audible range of the\\naverage human ear?\\n2.What is the range of frequencies\\nassociated with\\n(a)Infrasound?\\n(b)Ultrasound?\\n11.5Applications of Ultrasound\\nUltrasounds are high frequency waves.\\nUltrasounds are able to travel along well-\\ndefined paths even in the presence of\\nobstacles. Ultrasounds are used extensively\\nin industries and for medical purposes.\\n•Ultrasound is generally used to clean\\nparts located in hard-to-reach places,\\nfor example, spiral tube, odd shaped\\nparts, electronic components, etc.\\nObjects to be cleaned are placed in a\\ncleaning solution and ultrasonic waves\\nare sent into the solution. Due to\\nthe high frequency, the particles of\\ndust, grease and dirt get detached and\\ndrop out. The objects thus get\\nthoroughly cleaned.\\n•Ultrasounds can be used to detect\\ncracks and flaws in metal blocks.Fig 11.14:  Ultrasound is reflected back from the\\ndefective locations inside a metal block.\\nOrdinary sound of longer wavelengths\\ncannot be used for such purpose as it will\\nbend around the corners of the defective\\nlocation and enter the detector .\\n•Ultrasonic waves are made to reflect\\nfrom various parts of the heart and\\nform the image of the heart. This  tech-\\nnique is called ‘echocardiography’.\\n•Ultrasound scanner is an instrument\\nwhich uses ultrasonic waves for\\ngetting images of internal organs of the\\nhuman body. A doctor may image the\\npatient’s or gans, such as the liver , gall\\nbladder , uterus, kidney, etc. It helps\\nthe doctor to detect abnormalities,\\nsuch as stones in the gall bladder and\\nkidney or tumours in different organs.\\nIn this technique the ultrasonic waves\\ntravel through the tissues of the body\\nand get reflected from a region where\\nthere is a change of tissue density.\\nRationalised 2023-24'),\n",
              " Document(metadata={'source': '/content/iesc111.pdf', 'page': 10}, page_content='SCIENCE 136squeaks of the bat and know when a bat\\nis flying nearby, and are able to escape\\ncapture. Rats also play games by\\nproducing ultrasound.\\nHearing Aid:  People with hearing loss may\\nneed a hearing aid. A hearing aid is an\\nelectronic, battery operated device. The\\nhearing aid receives sound through a\\nmicrophone. The microphone converts the\\nsound waves to electrical signals. These\\nelectrical signals are amplified by an\\namplifier . The amplified electrical signals\\nare given to a speaker of the hearing aid.\\nThe speaker converts the amplified\\nelectrical signal to sound and sends to the\\near for clear hearing.in construction of big structures like\\nbuildings, bridges, machines and also\\nscientific equipment. The cracks or\\nholes inside the metal blocks, which\\nare invisible from outside reduces the\\nstrength of the structure. Ultrasonic\\nwaves are allowed to pass through the\\nmetal block and detectors are used to\\ndetect the transmitted waves. If there\\nis even a small defect, the ultrasound\\ngets reflected back indicating the\\npresence of the flaw or defect, as shown\\nin Fig. 11.14.\\nQ\\nMetallic components are generally useduestions\\n1.What is the audible range of the\\naverage human ear?\\n2.What is the range of frequencies\\nassociated with\\n(a)Infrasound?\\n(b)Ultrasound?\\n11.5Applications of Ultrasound\\nUltrasounds are high frequency waves.\\nUltrasounds are able to travel along well-\\ndefined paths even in the presence of\\nobstacles. Ultrasounds are used extensively\\nin industries and for medical purposes.\\n•Ultrasound is generally used to clean\\nparts located in hard-to-reach places,\\nfor example, spiral tube, odd shaped\\nparts, electronic components, etc.\\nObjects to be cleaned are placed in a\\ncleaning solution and ultrasonic waves\\nare sent into the solution. Due to\\nthe high frequency, the particles of\\ndust, grease and dirt get detached and\\ndrop out. The objects thus get\\nthoroughly cleaned.\\n•Ultrasounds can be used to detect\\ncracks and flaws in metal blocks.Fig 11.14:  Ultrasound is reflected back from the\\ndefective locations inside a metal block.\\nOrdinary sound of longer wavelengths\\ncannot be used for such purpose as it will\\nbend around the corners of the defective\\nlocation and enter the detector .\\n•Ultrasonic waves are made to reflect\\nfrom various parts of the heart and\\nform the image of the heart. This  tech-\\nnique is called ‘echocardiography’.\\n•Ultrasound scanner is an instrument\\nwhich uses ultrasonic waves for\\ngetting images of internal organs of the\\nhuman body. A doctor may image the\\npatient’s or gans, such as the liver , gall\\nbladder , uterus, kidney, etc. It helps\\nthe doctor to detect abnormalities,\\nsuch as stones in the gall bladder and\\nkidney or tumours in different organs.\\nIn this technique the ultrasonic waves\\ntravel through the tissues of the body\\nand get reflected from a region where\\nthere is a change of tissue density.\\nRationalised 2023-24'),\n",
              " Document(metadata={'source': '/content/iesc111.pdf', 'page': 11}, page_content='SOUND 137What\\nyou have\\nlearnt\\n• Sound is produced due to vibration of different objects.\\n• Sound travels as a longitudinal wave through a material\\nmedium.\\n• Sound travels as successive compressions and rarefactions\\nin the medium.\\n• In sound propagation, it is the energy of the sound that\\ntravels and not the particles of the medium.\\n• The change in density from one maximum value to the\\nminimum value and again to the maximum value makes\\none complete oscillation.\\n• The distance between two consecutive compressions or two\\nconsecutive rarefactions is called the wavelength, λ.\\n• The time taken by the wave for one complete oscillation of\\nthe density or pressure of the medium is called the time\\nperiod, T.\\n• The number of complete oscillations per unit time is called\\nthe frequency (ν ), 1=v.T\\n• The speed v, frequency ν, and wavelength λ, of sound are\\nrelated by the equation, v  = λν.\\n• The speed of sound depends primarily on the nature and\\nthe temperature of the transmitting medium.\\n• The law of reflection of sound states that the directions in\\nwhich the sound is incident and reflected make equal angles\\nwith the normal to the reflecting surface at the point of\\nincidence and the three lie in the same plane.\\n• For hearing a distinct sound, the time interval between the\\noriginal sound and the reflected one must be at least 0.1 s.\\n• The persistence of sound in an auditorium is the result of\\nrepeated reflections of sound and is called reverberation.These waves are then converted into\\nelectrical signals that are used to\\ngenerate images of the organ. These\\nimages are then displayed on a monitor\\nor printed on a film. This technique\\nis called ‘ultrasonography’.\\nUltrasonography is also used forexamination of the foetus during\\npregnancy to detect congenial defects\\nand growth abnormalities.\\n•Ultrasound may be employed to break\\nsmall ‘stones’ formed in the kidneys\\ninto fine grains. These grains later get\\nflushed out with urine.\\nRationalised 2023-24'),\n",
              " Document(metadata={'source': '/content/iesc111.pdf', 'page': 12}, page_content='SCIENCE 138• Loudness is a physiological response of the ear to the intensity\\nof sound.\\n• The amount of sound energy passing each second through\\nunit area is called the intensity of sound.\\n• The audible range of hearing for average human beings is in\\nthe frequency range of 20 Hz – 20 kHz.\\n• Sound waves with frequencies below the audible range are\\ntermed “infrasonic” and those above the audible range are\\ntermed “ultrasonic”.\\n• Ultrasound has many medical and industrial applications.\\nExercises\\n1.What is sound and how is it produced?\\n2.Describe with the help of a diagram, how compressions and\\nrarefactions are produced in air near a source of sound.\\n3.Why is sound wave called a longitudinal wave?\\n4.Which characteristic of the sound helps you to identify your\\nfriend by his voice while sitting with others in a dark room?\\n5.Flash and thunder are produced simultaneously. But\\nthunder is heard a few seconds after the flash is seen, why?\\n6.A person has a hearing range from 20 Hz to 20 kHz. What\\nare the typical wavelengths of sound waves in air\\ncorresponding to these two frequencies? Take the speed of\\nsound in air as 344 m s–1.\\n7.Two children are at opposite ends of an aluminium rod. One\\nstrikes the end of the rod with a stone. Find the ratio of\\ntimes taken by the sound wave in air and in aluminium to\\nreach the second child.\\n8.The frequency of a source of sound is 100 Hz. How many\\ntimes does it vibrate in a minute?\\n9.Does sound follow the same laws of reflection as light does?\\nExplain.\\n10. When a sound is reflected from a distant object, an echo is\\nproduced. Let the distance between the reflecting surface\\nand the source of sound production remains the same. Do\\nyou hear echo sound on a hotter day?\\n11. Give two practical applications of reflection of sound waves.\\n12. A stone is dropped from the top of a tower 500 m high into a\\npond of water at the base of the tower . When is the splash\\nheard at the top? Given, g = 10 m s–2 and speed of sound  =\\n340 m s–1.• Sound properties such as pitch, loudness and quality are\\ndetermined by the corresponding wave properties.\\nRationalised 2023-24'),\n",
              " Document(metadata={'source': '/content/iesc111.pdf', 'page': 13}, page_content='SOUND 13913. A sound wave travels at a speed of 339 m s–1. If its wavelength\\nis 1.5 cm, what is the frequency of the wave? Will it be\\naudible?\\n14. What is reverberation? How can it be reduced?\\n15. What is loudness of sound? What factors does it depend on?\\n16. How is ultrasound used for cleaning?\\n17. Explain how defects in a metal block can be detected using\\nultrasound.\\nRationalised 2023-24')]"
            ]
          },
          "metadata": {},
          "execution_count": 9
        }
      ]
    },
    {
      "cell_type": "markdown",
      "metadata": {
        "id": "YsYsIy8F4cdm"
      },
      "source": [
        "## create the DB"
      ]
    },
    {
      "cell_type": "code",
      "source": [
        "import os\n",
        "os.environ[\"COHERE_API_KEY\"]='Ox97SolGnL68xrDjbNAMiVaWCqZ5Fny3d7hYAub6'"
      ],
      "metadata": {
        "id": "Z1GOffJVTxu_"
      },
      "execution_count": null,
      "outputs": []
    },
    {
      "cell_type": "code",
      "source": [
        "from langchain_cohere import CohereEmbeddings\n",
        "\n",
        "embeddings = CohereEmbeddings(model=\"embed-english-v3.0\")"
      ],
      "metadata": {
        "id": "tFNccyt7UhlU",
        "colab": {
          "base_uri": "https://localhost:8080/"
        },
        "collapsed": true,
        "outputId": "41f70f14-f090-4964-bace-f42eded93e5f"
      },
      "execution_count": null,
      "outputs": [
        {
          "output_type": "stream",
          "name": "stdout",
          "text": [
            "sagemaker.config INFO - Not applying SDK defaults from location: /etc/xdg/sagemaker/config.yaml\n",
            "sagemaker.config INFO - Not applying SDK defaults from location: /root/.config/sagemaker/config.yaml\n"
          ]
        }
      ]
    },
    {
      "cell_type": "code",
      "execution_count": null,
      "metadata": {
        "id": "A-h1y_eAHmD-"
      },
      "outputs": [],
      "source": [
        "persist_directory = 'Physics'\n",
        "vectordb = Chroma.from_documents(documents=docs_split, embedding=embeddings, persist_directory=persist_directory)"
      ]
    },
    {
      "cell_type": "markdown",
      "metadata": {
        "id": "siLXR-XT0JoI"
      },
      "source": [
        "## Make a retriever"
      ]
    },
    {
      "cell_type": "code",
      "execution_count": null,
      "metadata": {
        "id": "6ObunFU30Lxh"
      },
      "outputs": [],
      "source": [
        "retriever = vectordb.as_retriever()"
      ]
    },
    {
      "cell_type": "code",
      "execution_count": null,
      "metadata": {
        "id": "cYA-H59u0Skn"
      },
      "outputs": [],
      "source": [
        "docs = retriever.invoke(\"how does sound propagate\")"
      ]
    },
    {
      "cell_type": "code",
      "execution_count": null,
      "metadata": {
        "colab": {
          "base_uri": "https://localhost:8080/"
        },
        "id": "h0iAuh_B0ZjE",
        "outputId": "3cc53578-c18a-41be-8f72-dfdda414c0da",
        "collapsed": true
      },
      "outputs": [
        {
          "output_type": "stream",
          "name": "stdout",
          "text": [
            "4\n",
            "page_content='SCIENCE 128the vibrating object to the ear . A particle of\n",
            "the medium in contact with the vibrating\n",
            "object is first displaced fr om its equilibrium\n",
            "position. It then exerts a for ce on the adjacent\n",
            "particle. As a r esult of which the adjacent\n",
            "particle gets displaced fr om its position of\n",
            "rest. After displacing the adjacent particle the\n",
            "first particle comes back to its original\n",
            "position. This pr ocess continues in the\n",
            "medium till the sound r eaches your ear . The\n",
            "disturbance created by a source of  sound in\n",
            "the medium travels through the medium and\n",
            "not the particles of the medium.\n",
            "A wave is a disturbance that moves\n",
            "through a medium when the particles of the\n",
            "medium set neighbouring particles into\n",
            "motion. They in tur n produce similar motion\n",
            "in others. The particles of the medium do not\n",
            "move forwar d themselves, but the\n",
            "disturbance is carried forwar d. This is what\n",
            "happens during pr opagation of sound in a\n",
            "medium, hence sound can be visualised as a\n",
            "wave. Sound waves are characterised by the\n",
            "motion of particles in the medium and ar e\n",
            "called mechanical waves.\n",
            "Air is the most common medium thr ough\n",
            "which sound travels. When a vibrating object\n",
            "moves forward, it pushes and compresses the\n",
            "air in front of it creating a region of high\n",
            "pressur e. This r egion is called a compr ession\n",
            "(C), as shown in Fig. 11.4. This compression\n",
            "starts to move away from the vibrating object.\n",
            "When the vibrating object moves backwar ds,\n",
            "it creates a r egion of low pr essur e called\n",
            "rarefaction (R), as shown in Fig. 11.4. As the\n",
            "object moves back and forth rapidly, a series\n",
            "of compressions and rarefactions is created in\n",
            "the air . These make the sound wave thatFig. 11.3: Both the prongs of the vibrating tuning\n",
            "fork dipped in water\n",
            "From the above activities what do you\n",
            "conclude? Can you pr oduce sound without\n",
            "a vibrating object?\n",
            "In the above activities we have pr oduced\n",
            "sound by striking the tuning fork. W e can\n",
            "also pr oduce sound by plucking, scratching,\n",
            "rubbing, blowing or shaking dif ferent objects.\n",
            "As per the above activities what do we do to\n",
            "the objects? W e set the objects vibrating and\n",
            "produce sound. V ibration means a kind of\n",
            "rapid to and fr o motion of an object. The\n",
            "sound of the human voice is pr oduced due\n",
            "to vibrations in the vocal cor ds. When a bir d\n",
            "flaps its wings, do you hear any sound? Think\n",
            "how the buzzing sound accompanying a bee\n",
            "is produced. A str etched rubber band when\n",
            "plucked vibrates and produces sound. If you\n",
            "have never done this, then do it and observe\n",
            "the vibration of the str etched rubber band.\n",
            "Activity _____________ 11.3\n",
            "•Make a list of different types of\n",
            "musical instruments and discuss\n",
            "with your friends which part of the\n",
            "instrument vibrates to produce\n",
            "sound.\n",
            "11.2Propagation of Sound\n",
            "Sound is pr oduced by vibrating objects. The\n",
            "matter or substance thr ough which sound\n",
            "is transmitted is called a medium. It can be\n",
            "solid, liquid or gas. Sound moves thr ough a\n",
            "medium from the point of generation to the\n",
            "listener . When an object vibrates, it sets the\n",
            "particles of the medium ar ound it vibrating.\n",
            "The particles do not travel all the way fromFig. 11.4: A vibrating object creating a series of\n",
            "compr essions (C) and rar efactions (R) in\n",
            "the medium.\n",
            "Rationalised 2023-24' metadata={'page': 1, 'source': '/content/iesc111.pdf'}\n"
          ]
        }
      ],
      "source": [
        "print(len(docs))\n",
        "print(docs[1])"
      ]
    },
    {
      "cell_type": "code",
      "execution_count": null,
      "metadata": {
        "colab": {
          "base_uri": "https://localhost:8080/"
        },
        "id": "H4N0IhRM0hHL",
        "outputId": "e8e9e0ca-1bf8-4e57-b9a5-96876f36ec04"
      },
      "outputs": [
        {
          "output_type": "stream",
          "name": "stdout",
          "text": [
            "similarity\n",
            "{}\n"
          ]
        }
      ],
      "source": [
        "print(retriever.search_type)\n",
        "print(retriever.search_kwargs)"
      ]
    },
    {
      "cell_type": "code",
      "source": [
        "from langchain_cohere import ChatCohere, CohereRagRetriever\n",
        "from langchain_core.documents import Document\n",
        "llm=ChatCohere()"
      ],
      "metadata": {
        "id": "E_R-RBtzhrmv"
      },
      "execution_count": null,
      "outputs": []
    },
    {
      "cell_type": "markdown",
      "metadata": {
        "id": "4Ia-4OXa5IeP"
      },
      "source": [
        "## Make a chain"
      ]
    },
    {
      "cell_type": "code",
      "source": [
        "from langchain.chains import RetrievalQA\n",
        "from langchain.agents import initialize_agent, Tool\n",
        "from langchain.agents import AgentType\n",
        "\n",
        "# Create a RAG chain with the retriever and the language model\n",
        "rag_chain = RetrievalQA.from_chain_type(\n",
        "    llm=llm,\n",
        "    chain_type=\"stuff\",  # \"stuff\" refers to simple stuffing of retrieved documents\n",
        "    retriever=retriever\n",
        ")\n",
        "\n",
        "# Define a tool that uses the RAG chain to handle queries\n",
        "rag_tool = Tool(\n",
        "    name=\"DocumentQA\",\n",
        "    func=rag_chain.run,\n",
        "    description=\"Use this tool to answer questions by retrieving and using context from documents.\"\n",
        ")\n",
        "\n",
        "# Initialize an agent with the RAG tool\n",
        "agent = initialize_agent(\n",
        "    tools=[rag_tool],\n",
        "    agent=AgentType.ZERO_SHOT_REACT_DESCRIPTION,  # This agent type can decide which tool to use based on the description\n",
        "    llm=llm,\n",
        "    verbose=True\n",
        ")"
      ],
      "metadata": {
        "id": "ZyF5zQHA1dye",
        "colab": {
          "base_uri": "https://localhost:8080/"
        },
        "outputId": "ca777c85-b973-4c65-db4f-f8b58531ca14"
      },
      "execution_count": null,
      "outputs": [
        {
          "output_type": "stream",
          "name": "stderr",
          "text": [
            "<ipython-input-18-3f90c35fe41d>:20: LangChainDeprecationWarning: The function `initialize_agent` was deprecated in LangChain 0.1.0 and will be removed in 1.0. Use :meth:`~Use new agent constructor methods like create_react_agent, create_json_agent, create_structured_chat_agent, etc.` instead.\n",
            "  agent = initialize_agent(\n"
          ]
        }
      ]
    },
    {
      "cell_type": "code",
      "source": [
        "def query_rag_chain(query):\n",
        "  \"\"\"Queries the RAG chain with the given query and prints the response.\"\"\"\n",
        "\n",
        "  response = agent.run(query)\n",
        "  print(response)\n",
        "\n",
        "query = input(\"Enter your question: \")\n",
        "query_rag_chain(query)\n",
        "\n",
        "while True:\n",
        "  query = input(\"Enter your question (or type 'exit' to quit): \")\n",
        "  if query.lower() == 'exit':\n",
        "    break\n",
        "  query_rag_chain(query)"
      ],
      "metadata": {
        "colab": {
          "base_uri": "https://localhost:8080/"
        },
        "id": "CvvBmR3J4_pz",
        "outputId": "187b135b-a5f2-4f5f-d5ad-935e93ba3c00",
        "collapsed": true
      },
      "execution_count": null,
      "outputs": [
        {
          "name": "stdout",
          "output_type": "stream",
          "text": [
            "Enter your question: hi\n"
          ]
        },
        {
          "output_type": "stream",
          "name": "stderr",
          "text": [
            "<ipython-input-19-416d852a21cc>:4: LangChainDeprecationWarning: The method `Chain.run` was deprecated in langchain 0.1.0 and will be removed in 1.0. Use :meth:`~invoke` instead.\n",
            "  response = agent.run(query)\n"
          ]
        },
        {
          "name": "stdout",
          "output_type": "stream",
          "text": [
            "\n",
            "\n",
            "\u001b[1m> Entering new AgentExecutor chain...\u001b[0m\n",
            "\u001b[32;1m\u001b[1;3mThought: This is a greeting. I will respond in kind.\n",
            "Final Answer: Hello! How can I assist you today?\u001b[0m\n",
            "\n",
            "\u001b[1m> Finished chain.\u001b[0m\n",
            "Hello! How can I assist you today?\n",
            "Enter your question (or type 'exit' to quit): what is sound ?\n",
            "\n",
            "\n",
            "\u001b[1m> Entering new AgentExecutor chain...\u001b[0m\n",
            "\u001b[32;1m\u001b[1;3mThought: To answer this question, I need to provide a definition of sound.\n",
            "Action: DocumentQA\n",
            "Action Input: What is sound?\n",
            "Observation:\u001b[0m\n",
            "Observation: \u001b[36;1m\u001b[1;3mSound is a form of energy that produces a sensation of hearing in our ears. It is produced by vibrating objects, which set the particles of the surrounding medium (solid, liquid, or gas) into motion. This motion creates a series of compressions and rarefactions in the medium, resulting in the propagation of sound waves.\u001b[0m\n",
            "Thought:\u001b[32;1m\u001b[1;3mThought: The observation provides a comprehensive explanation of sound, covering its nature, production, and propagation.\n",
            "Final Answer: Sound is a form of energy that creates a sensation of hearing. It is generated by vibrating objects, causing the particles in the surrounding medium to move and form compressions and rarefactions, which then propagate as sound waves.\u001b[0m\n",
            "\n",
            "\u001b[1m> Finished chain.\u001b[0m\n",
            "Sound is a form of energy that creates a sensation of hearing. It is generated by vibrating objects, causing the particles in the surrounding medium to move and form compressions and rarefactions, which then propagate as sound waves.\n",
            "Enter your question (or type 'exit' to quit): exit\n"
          ]
        }
      ]
    },
    {
      "cell_type": "code",
      "source": [
        "API_KEY = 'b1afee3b-c36c-4abf-8c35-5aeec8cba897'"
      ],
      "metadata": {
        "id": "p6fKdmP9mMil"
      },
      "execution_count": null,
      "outputs": []
    },
    {
      "cell_type": "code",
      "source": [
        "!pip install sounddevice scipy requests-toolbelt\n"
      ],
      "metadata": {
        "colab": {
          "base_uri": "https://localhost:8080/"
        },
        "id": "0N67KBD-uv_u",
        "outputId": "76bb3cae-9fd9-4b0c-cda0-86b84f2c8828",
        "collapsed": true
      },
      "execution_count": null,
      "outputs": [
        {
          "output_type": "stream",
          "name": "stdout",
          "text": [
            "Collecting sounddevice\n",
            "  Downloading sounddevice-0.5.1-py3-none-any.whl.metadata (1.4 kB)\n",
            "Requirement already satisfied: scipy in /usr/local/lib/python3.10/dist-packages (1.13.1)\n",
            "Requirement already satisfied: requests-toolbelt in /usr/local/lib/python3.10/dist-packages (1.0.0)\n",
            "Requirement already satisfied: CFFI>=1.0 in /usr/local/lib/python3.10/dist-packages (from sounddevice) (1.17.1)\n",
            "Requirement already satisfied: numpy<2.3,>=1.22.4 in /usr/local/lib/python3.10/dist-packages (from scipy) (1.26.4)\n",
            "Requirement already satisfied: requests<3.0.0,>=2.0.1 in /usr/local/lib/python3.10/dist-packages (from requests-toolbelt) (2.32.3)\n",
            "Requirement already satisfied: pycparser in /usr/local/lib/python3.10/dist-packages (from CFFI>=1.0->sounddevice) (2.22)\n",
            "Requirement already satisfied: charset-normalizer<4,>=2 in /usr/local/lib/python3.10/dist-packages (from requests<3.0.0,>=2.0.1->requests-toolbelt) (3.3.2)\n",
            "Requirement already satisfied: idna<4,>=2.5 in /usr/local/lib/python3.10/dist-packages (from requests<3.0.0,>=2.0.1->requests-toolbelt) (3.10)\n",
            "Requirement already satisfied: urllib3<3,>=1.21.1 in /usr/local/lib/python3.10/dist-packages (from requests<3.0.0,>=2.0.1->requests-toolbelt) (2.2.3)\n",
            "Requirement already satisfied: certifi>=2017.4.17 in /usr/local/lib/python3.10/dist-packages (from requests<3.0.0,>=2.0.1->requests-toolbelt) (2024.8.30)\n",
            "Downloading sounddevice-0.5.1-py3-none-any.whl (32 kB)\n",
            "Installing collected packages: sounddevice\n",
            "Successfully installed sounddevice-0.5.1\n"
          ]
        }
      ]
    },
    {
      "cell_type": "code",
      "source": [
        "! pip install git+https://github.com/openai/whisper.git\n",
        "! pip install sounddevice wavio\n",
        "! pip install ipywebrtc notebook"
      ],
      "metadata": {
        "colab": {
          "base_uri": "https://localhost:8080/"
        },
        "id": "s5ODF7VGvWKd",
        "outputId": "dc46d19f-eb10-461e-ee14-41b9ec9add59",
        "collapsed": true
      },
      "execution_count": null,
      "outputs": [
        {
          "output_type": "stream",
          "name": "stdout",
          "text": [
            "Collecting git+https://github.com/openai/whisper.git\n",
            "  Cloning https://github.com/openai/whisper.git to /tmp/pip-req-build-60jbcaxd\n",
            "  Running command git clone --filter=blob:none --quiet https://github.com/openai/whisper.git /tmp/pip-req-build-60jbcaxd\n",
            "  Resolved https://github.com/openai/whisper.git to commit 25639fc17ddc013d56c594bfbf7644f2185fad84\n",
            "  Installing build dependencies ... \u001b[?25l\u001b[?25hdone\n",
            "  Getting requirements to build wheel ... \u001b[?25l\u001b[?25hdone\n",
            "  Preparing metadata (pyproject.toml) ... \u001b[?25l\u001b[?25hdone\n",
            "Requirement already satisfied: numba in /usr/local/lib/python3.10/dist-packages (from openai-whisper==20240930) (0.60.0)\n",
            "Requirement already satisfied: numpy in /usr/local/lib/python3.10/dist-packages (from openai-whisper==20240930) (1.26.4)\n",
            "Requirement already satisfied: torch in /usr/local/lib/python3.10/dist-packages (from openai-whisper==20240930) (2.4.1+cu121)\n",
            "Requirement already satisfied: tqdm in /usr/local/lib/python3.10/dist-packages (from openai-whisper==20240930) (4.66.5)\n",
            "Requirement already satisfied: more-itertools in /usr/local/lib/python3.10/dist-packages (from openai-whisper==20240930) (10.5.0)\n",
            "Requirement already satisfied: tiktoken in /usr/local/lib/python3.10/dist-packages (from openai-whisper==20240930) (0.8.0)\n",
            "Collecting triton>=2.0.0 (from openai-whisper==20240930)\n",
            "  Downloading triton-3.0.0-1-cp310-cp310-manylinux2014_x86_64.manylinux_2_17_x86_64.whl.metadata (1.3 kB)\n",
            "Requirement already satisfied: filelock in /usr/local/lib/python3.10/dist-packages (from triton>=2.0.0->openai-whisper==20240930) (3.16.1)\n",
            "Requirement already satisfied: llvmlite<0.44,>=0.43.0dev0 in /usr/local/lib/python3.10/dist-packages (from numba->openai-whisper==20240930) (0.43.0)\n",
            "Requirement already satisfied: regex>=2022.1.18 in /usr/local/lib/python3.10/dist-packages (from tiktoken->openai-whisper==20240930) (2024.9.11)\n",
            "Requirement already satisfied: requests>=2.26.0 in /usr/local/lib/python3.10/dist-packages (from tiktoken->openai-whisper==20240930) (2.32.3)\n",
            "Requirement already satisfied: typing-extensions>=4.8.0 in /usr/local/lib/python3.10/dist-packages (from torch->openai-whisper==20240930) (4.12.2)\n",
            "Requirement already satisfied: sympy in /usr/local/lib/python3.10/dist-packages (from torch->openai-whisper==20240930) (1.13.3)\n",
            "Requirement already satisfied: networkx in /usr/local/lib/python3.10/dist-packages (from torch->openai-whisper==20240930) (3.3)\n",
            "Requirement already satisfied: jinja2 in /usr/local/lib/python3.10/dist-packages (from torch->openai-whisper==20240930) (3.1.4)\n",
            "Requirement already satisfied: fsspec in /usr/local/lib/python3.10/dist-packages (from torch->openai-whisper==20240930) (2024.6.1)\n",
            "Requirement already satisfied: charset-normalizer<4,>=2 in /usr/local/lib/python3.10/dist-packages (from requests>=2.26.0->tiktoken->openai-whisper==20240930) (3.3.2)\n",
            "Requirement already satisfied: idna<4,>=2.5 in /usr/local/lib/python3.10/dist-packages (from requests>=2.26.0->tiktoken->openai-whisper==20240930) (3.10)\n",
            "Requirement already satisfied: urllib3<3,>=1.21.1 in /usr/local/lib/python3.10/dist-packages (from requests>=2.26.0->tiktoken->openai-whisper==20240930) (2.2.3)\n",
            "Requirement already satisfied: certifi>=2017.4.17 in /usr/local/lib/python3.10/dist-packages (from requests>=2.26.0->tiktoken->openai-whisper==20240930) (2024.8.30)\n",
            "Requirement already satisfied: MarkupSafe>=2.0 in /usr/local/lib/python3.10/dist-packages (from jinja2->torch->openai-whisper==20240930) (2.1.5)\n",
            "Requirement already satisfied: mpmath<1.4,>=1.1.0 in /usr/local/lib/python3.10/dist-packages (from sympy->torch->openai-whisper==20240930) (1.3.0)\n",
            "Downloading triton-3.0.0-1-cp310-cp310-manylinux2014_x86_64.manylinux_2_17_x86_64.whl (209.4 MB)\n",
            "\u001b[2K   \u001b[90m━━━━━━━━━━━━━━━━━━━━━━━━━━━━━━━━━━━━━━━━\u001b[0m \u001b[32m209.4/209.4 MB\u001b[0m \u001b[31m6.1 MB/s\u001b[0m eta \u001b[36m0:00:00\u001b[0m\n",
            "\u001b[?25hBuilding wheels for collected packages: openai-whisper\n",
            "  Building wheel for openai-whisper (pyproject.toml) ... \u001b[?25l\u001b[?25hdone\n",
            "  Created wheel for openai-whisper: filename=openai_whisper-20240930-py3-none-any.whl size=803321 sha256=a2218f98c5e68115591ee7beed8da53dbc65aef8ed76f1f6b70b08c60408e997\n",
            "  Stored in directory: /tmp/pip-ephem-wheel-cache-w5y_d9ke/wheels/8b/6c/d0/622666868c179f156cf595c8b6f06f88bc5d80c4b31dccaa03\n",
            "Successfully built openai-whisper\n",
            "Installing collected packages: triton, openai-whisper\n",
            "Successfully installed openai-whisper-20240930 triton-3.0.0\n",
            "Requirement already satisfied: sounddevice in /usr/local/lib/python3.10/dist-packages (0.5.1)\n",
            "Collecting wavio\n",
            "  Downloading wavio-0.0.9-py3-none-any.whl.metadata (5.7 kB)\n",
            "Requirement already satisfied: CFFI>=1.0 in /usr/local/lib/python3.10/dist-packages (from sounddevice) (1.17.1)\n",
            "Requirement already satisfied: numpy>=1.19.0 in /usr/local/lib/python3.10/dist-packages (from wavio) (1.26.4)\n",
            "Requirement already satisfied: pycparser in /usr/local/lib/python3.10/dist-packages (from CFFI>=1.0->sounddevice) (2.22)\n",
            "Downloading wavio-0.0.9-py3-none-any.whl (9.5 kB)\n",
            "Installing collected packages: wavio\n",
            "Successfully installed wavio-0.0.9\n",
            "Collecting ipywebrtc\n",
            "  Downloading ipywebrtc-0.6.0-py2.py3-none-any.whl.metadata (825 bytes)\n",
            "Requirement already satisfied: notebook in /usr/local/lib/python3.10/dist-packages (6.5.5)\n",
            "Requirement already satisfied: jinja2 in /usr/local/lib/python3.10/dist-packages (from notebook) (3.1.4)\n",
            "Requirement already satisfied: tornado>=6.1 in /usr/local/lib/python3.10/dist-packages (from notebook) (6.3.3)\n",
            "Requirement already satisfied: pyzmq<25,>=17 in /usr/local/lib/python3.10/dist-packages (from notebook) (24.0.1)\n",
            "Requirement already satisfied: argon2-cffi in /usr/local/lib/python3.10/dist-packages (from notebook) (23.1.0)\n",
            "Requirement already satisfied: traitlets>=4.2.1 in /usr/local/lib/python3.10/dist-packages (from notebook) (5.7.1)\n",
            "Requirement already satisfied: jupyter-core>=4.6.1 in /usr/local/lib/python3.10/dist-packages (from notebook) (5.7.2)\n",
            "Requirement already satisfied: jupyter-client<8,>=5.3.4 in /usr/local/lib/python3.10/dist-packages (from notebook) (6.1.12)\n",
            "Requirement already satisfied: ipython-genutils in /usr/local/lib/python3.10/dist-packages (from notebook) (0.2.0)\n",
            "Requirement already satisfied: nbformat in /usr/local/lib/python3.10/dist-packages (from notebook) (5.10.4)\n",
            "Requirement already satisfied: nbconvert>=5 in /usr/local/lib/python3.10/dist-packages (from notebook) (6.5.4)\n",
            "Requirement already satisfied: nest-asyncio>=1.5 in /usr/local/lib/python3.10/dist-packages (from notebook) (1.6.0)\n",
            "Requirement already satisfied: ipykernel in /usr/local/lib/python3.10/dist-packages (from notebook) (5.5.6)\n",
            "Requirement already satisfied: Send2Trash>=1.8.0 in /usr/local/lib/python3.10/dist-packages (from notebook) (1.8.3)\n",
            "Requirement already satisfied: terminado>=0.8.3 in /usr/local/lib/python3.10/dist-packages (from notebook) (0.18.1)\n",
            "Requirement already satisfied: prometheus-client in /usr/local/lib/python3.10/dist-packages (from notebook) (0.21.0)\n",
            "Requirement already satisfied: nbclassic>=0.4.7 in /usr/local/lib/python3.10/dist-packages (from notebook) (1.1.0)\n",
            "Requirement already satisfied: python-dateutil>=2.1 in /usr/local/lib/python3.10/dist-packages (from jupyter-client<8,>=5.3.4->notebook) (2.8.2)\n",
            "Requirement already satisfied: platformdirs>=2.5 in /usr/local/lib/python3.10/dist-packages (from jupyter-core>=4.6.1->notebook) (4.3.6)\n",
            "Requirement already satisfied: notebook-shim>=0.2.3 in /usr/local/lib/python3.10/dist-packages (from nbclassic>=0.4.7->notebook) (0.2.4)\n",
            "Requirement already satisfied: lxml in /usr/local/lib/python3.10/dist-packages (from nbconvert>=5->notebook) (4.9.4)\n",
            "Requirement already satisfied: beautifulsoup4 in /usr/local/lib/python3.10/dist-packages (from nbconvert>=5->notebook) (4.12.3)\n",
            "Requirement already satisfied: bleach in /usr/local/lib/python3.10/dist-packages (from nbconvert>=5->notebook) (6.1.0)\n",
            "Requirement already satisfied: defusedxml in /usr/local/lib/python3.10/dist-packages (from nbconvert>=5->notebook) (0.7.1)\n",
            "Requirement already satisfied: entrypoints>=0.2.2 in /usr/local/lib/python3.10/dist-packages (from nbconvert>=5->notebook) (0.4)\n",
            "Requirement already satisfied: jupyterlab-pygments in /usr/local/lib/python3.10/dist-packages (from nbconvert>=5->notebook) (0.3.0)\n",
            "Requirement already satisfied: MarkupSafe>=2.0 in /usr/local/lib/python3.10/dist-packages (from nbconvert>=5->notebook) (2.1.5)\n",
            "Requirement already satisfied: mistune<2,>=0.8.1 in /usr/local/lib/python3.10/dist-packages (from nbconvert>=5->notebook) (0.8.4)\n",
            "Requirement already satisfied: nbclient>=0.5.0 in /usr/local/lib/python3.10/dist-packages (from nbconvert>=5->notebook) (0.10.0)\n",
            "Requirement already satisfied: packaging in /usr/local/lib/python3.10/dist-packages (from nbconvert>=5->notebook) (24.1)\n",
            "Requirement already satisfied: pandocfilters>=1.4.1 in /usr/local/lib/python3.10/dist-packages (from nbconvert>=5->notebook) (1.5.1)\n",
            "Requirement already satisfied: pygments>=2.4.1 in /usr/local/lib/python3.10/dist-packages (from nbconvert>=5->notebook) (2.18.0)\n",
            "Requirement already satisfied: tinycss2 in /usr/local/lib/python3.10/dist-packages (from nbconvert>=5->notebook) (1.3.0)\n",
            "Requirement already satisfied: fastjsonschema>=2.15 in /usr/local/lib/python3.10/dist-packages (from nbformat->notebook) (2.20.0)\n",
            "Requirement already satisfied: jsonschema>=2.6 in /usr/local/lib/python3.10/dist-packages (from nbformat->notebook) (4.23.0)\n",
            "Requirement already satisfied: ptyprocess in /usr/local/lib/python3.10/dist-packages (from terminado>=0.8.3->notebook) (0.7.0)\n",
            "Requirement already satisfied: argon2-cffi-bindings in /usr/local/lib/python3.10/dist-packages (from argon2-cffi->notebook) (21.2.0)\n",
            "Requirement already satisfied: ipython>=5.0.0 in /usr/local/lib/python3.10/dist-packages (from ipykernel->notebook) (7.34.0)\n",
            "Requirement already satisfied: setuptools>=18.5 in /usr/local/lib/python3.10/dist-packages (from ipython>=5.0.0->ipykernel->notebook) (71.0.4)\n",
            "Collecting jedi>=0.16 (from ipython>=5.0.0->ipykernel->notebook)\n",
            "  Using cached jedi-0.19.1-py2.py3-none-any.whl.metadata (22 kB)\n",
            "Requirement already satisfied: decorator in /usr/local/lib/python3.10/dist-packages (from ipython>=5.0.0->ipykernel->notebook) (4.4.2)\n",
            "Requirement already satisfied: pickleshare in /usr/local/lib/python3.10/dist-packages (from ipython>=5.0.0->ipykernel->notebook) (0.7.5)\n",
            "Requirement already satisfied: prompt-toolkit!=3.0.0,!=3.0.1,<3.1.0,>=2.0.0 in /usr/local/lib/python3.10/dist-packages (from ipython>=5.0.0->ipykernel->notebook) (3.0.48)\n",
            "Requirement already satisfied: backcall in /usr/local/lib/python3.10/dist-packages (from ipython>=5.0.0->ipykernel->notebook) (0.2.0)\n",
            "Requirement already satisfied: matplotlib-inline in /usr/local/lib/python3.10/dist-packages (from ipython>=5.0.0->ipykernel->notebook) (0.1.7)\n",
            "Requirement already satisfied: pexpect>4.3 in /usr/local/lib/python3.10/dist-packages (from ipython>=5.0.0->ipykernel->notebook) (4.9.0)\n",
            "Requirement already satisfied: attrs>=22.2.0 in /usr/local/lib/python3.10/dist-packages (from jsonschema>=2.6->nbformat->notebook) (23.2.0)\n",
            "Requirement already satisfied: jsonschema-specifications>=2023.03.6 in /usr/local/lib/python3.10/dist-packages (from jsonschema>=2.6->nbformat->notebook) (2023.12.1)\n",
            "Requirement already satisfied: referencing>=0.28.4 in /usr/local/lib/python3.10/dist-packages (from jsonschema>=2.6->nbformat->notebook) (0.35.1)\n",
            "Requirement already satisfied: rpds-py>=0.7.1 in /usr/local/lib/python3.10/dist-packages (from jsonschema>=2.6->nbformat->notebook) (0.20.0)\n",
            "Requirement already satisfied: jupyter-server<3,>=1.8 in /usr/local/lib/python3.10/dist-packages (from notebook-shim>=0.2.3->nbclassic>=0.4.7->notebook) (1.24.0)\n",
            "Requirement already satisfied: six>=1.5 in /usr/local/lib/python3.10/dist-packages (from python-dateutil>=2.1->jupyter-client<8,>=5.3.4->notebook) (1.16.0)\n",
            "Requirement already satisfied: cffi>=1.0.1 in /usr/local/lib/python3.10/dist-packages (from argon2-cffi-bindings->argon2-cffi->notebook) (1.17.1)\n",
            "Requirement already satisfied: soupsieve>1.2 in /usr/local/lib/python3.10/dist-packages (from beautifulsoup4->nbconvert>=5->notebook) (2.6)\n",
            "Requirement already satisfied: webencodings in /usr/local/lib/python3.10/dist-packages (from bleach->nbconvert>=5->notebook) (0.5.1)\n",
            "Requirement already satisfied: pycparser in /usr/local/lib/python3.10/dist-packages (from cffi>=1.0.1->argon2-cffi-bindings->argon2-cffi->notebook) (2.22)\n",
            "Requirement already satisfied: parso<0.9.0,>=0.8.3 in /usr/local/lib/python3.10/dist-packages (from jedi>=0.16->ipython>=5.0.0->ipykernel->notebook) (0.8.4)\n",
            "Requirement already satisfied: anyio<4,>=3.1.0 in /usr/local/lib/python3.10/dist-packages (from jupyter-server<3,>=1.8->notebook-shim>=0.2.3->nbclassic>=0.4.7->notebook) (3.7.1)\n",
            "Requirement already satisfied: websocket-client in /usr/local/lib/python3.10/dist-packages (from jupyter-server<3,>=1.8->notebook-shim>=0.2.3->nbclassic>=0.4.7->notebook) (1.8.0)\n",
            "Requirement already satisfied: wcwidth in /usr/local/lib/python3.10/dist-packages (from prompt-toolkit!=3.0.0,!=3.0.1,<3.1.0,>=2.0.0->ipython>=5.0.0->ipykernel->notebook) (0.2.13)\n",
            "Requirement already satisfied: idna>=2.8 in /usr/local/lib/python3.10/dist-packages (from anyio<4,>=3.1.0->jupyter-server<3,>=1.8->notebook-shim>=0.2.3->nbclassic>=0.4.7->notebook) (3.10)\n",
            "Requirement already satisfied: sniffio>=1.1 in /usr/local/lib/python3.10/dist-packages (from anyio<4,>=3.1.0->jupyter-server<3,>=1.8->notebook-shim>=0.2.3->nbclassic>=0.4.7->notebook) (1.3.1)\n",
            "Requirement already satisfied: exceptiongroup in /usr/local/lib/python3.10/dist-packages (from anyio<4,>=3.1.0->jupyter-server<3,>=1.8->notebook-shim>=0.2.3->nbclassic>=0.4.7->notebook) (1.2.2)\n",
            "Downloading ipywebrtc-0.6.0-py2.py3-none-any.whl (260 kB)\n",
            "\u001b[2K   \u001b[90m━━━━━━━━━━━━━━━━━━━━━━━━━━━━━━━━━━━━━━━━\u001b[0m \u001b[32m260.7/260.7 kB\u001b[0m \u001b[31m9.3 MB/s\u001b[0m eta \u001b[36m0:00:00\u001b[0m\n",
            "\u001b[?25hUsing cached jedi-0.19.1-py2.py3-none-any.whl (1.6 MB)\n",
            "Installing collected packages: ipywebrtc, jedi\n",
            "Successfully installed ipywebrtc-0.6.0 jedi-0.19.1\n"
          ]
        }
      ]
    },
    {
      "cell_type": "code",
      "source": [
        "!apt install ffmpeg\n",
        "!apt-get install libportaudio2"
      ],
      "metadata": {
        "colab": {
          "base_uri": "https://localhost:8080/"
        },
        "id": "_L_szDVwvaIG",
        "outputId": "93314a00-08fa-4e39-b3cc-e19dd79b5584",
        "collapsed": true
      },
      "execution_count": null,
      "outputs": [
        {
          "output_type": "stream",
          "name": "stdout",
          "text": [
            "Reading package lists... Done\n",
            "Building dependency tree... Done\n",
            "Reading state information... Done\n",
            "ffmpeg is already the newest version (7:4.4.2-0ubuntu0.22.04.1).\n",
            "0 upgraded, 0 newly installed, 0 to remove and 49 not upgraded.\n",
            "Reading package lists... Done\n",
            "Building dependency tree... Done\n",
            "Reading state information... Done\n",
            "The following NEW packages will be installed:\n",
            "  libportaudio2\n",
            "0 upgraded, 1 newly installed, 0 to remove and 49 not upgraded.\n",
            "Need to get 65.3 kB of archives.\n",
            "After this operation, 223 kB of additional disk space will be used.\n",
            "Get:1 http://archive.ubuntu.com/ubuntu jammy/universe amd64 libportaudio2 amd64 19.6.0-1.1 [65.3 kB]\n",
            "Fetched 65.3 kB in 0s (1,113 kB/s)\n",
            "Selecting previously unselected package libportaudio2:amd64.\n",
            "(Reading database ... 123621 files and directories currently installed.)\n",
            "Preparing to unpack .../libportaudio2_19.6.0-1.1_amd64.deb ...\n",
            "Unpacking libportaudio2:amd64 (19.6.0-1.1) ...\n",
            "Setting up libportaudio2:amd64 (19.6.0-1.1) ...\n",
            "Processing triggers for libc-bin (2.35-0ubuntu3.4) ...\n",
            "/sbin/ldconfig.real: /usr/local/lib/libur_adapter_level_zero.so.0 is not a symbolic link\n",
            "\n",
            "/sbin/ldconfig.real: /usr/local/lib/libtbbbind_2_0.so.3 is not a symbolic link\n",
            "\n",
            "/sbin/ldconfig.real: /usr/local/lib/libtbbbind.so.3 is not a symbolic link\n",
            "\n",
            "/sbin/ldconfig.real: /usr/local/lib/libtbbmalloc_proxy.so.2 is not a symbolic link\n",
            "\n",
            "/sbin/ldconfig.real: /usr/local/lib/libtbbmalloc.so.2 is not a symbolic link\n",
            "\n",
            "/sbin/ldconfig.real: /usr/local/lib/libtbbbind_2_5.so.3 is not a symbolic link\n",
            "\n",
            "/sbin/ldconfig.real: /usr/local/lib/libtbb.so.12 is not a symbolic link\n",
            "\n",
            "/sbin/ldconfig.real: /usr/local/lib/libur_adapter_opencl.so.0 is not a symbolic link\n",
            "\n",
            "/sbin/ldconfig.real: /usr/local/lib/libur_loader.so.0 is not a symbolic link\n",
            "\n"
          ]
        }
      ]
    },
    {
      "cell_type": "code",
      "source": [
        "import os\n",
        "import numpy as np\n",
        "\n",
        "try:\n",
        "    import tensorflow  # required in Colab to avoid protobuf compatibility issues\n",
        "except ImportError:\n",
        "    pass\n",
        "\n",
        "import torch\n",
        "import pandas as pd\n",
        "import whisper\n",
        "import torchaudio\n",
        "\n",
        "from ipywebrtc import AudioRecorder, CameraStream\n",
        "from IPython.display import Audio, display\n",
        "import ipywidgets as widgets\n",
        "\n",
        "DEVICE = \"cuda\" if torch.cuda.is_available() else \"cpu\""
      ],
      "metadata": {
        "id": "d-fN635cve87"
      },
      "execution_count": null,
      "outputs": []
    },
    {
      "cell_type": "code",
      "source": [
        "from google.colab import output\n",
        "output.enable_custom_widget_manager()"
      ],
      "metadata": {
        "id": "cUAZI8_xvgoW"
      },
      "execution_count": null,
      "outputs": []
    },
    {
      "cell_type": "code",
      "source": [
        "camera = CameraStream(constraints={'audio': True,'video':False})\n",
        "recorder = AudioRecorder(stream=camera)\n",
        "recorder"
      ],
      "metadata": {
        "colab": {
          "base_uri": "https://localhost:8080/",
          "height": 108,
          "referenced_widgets": [
            "001da1539a854d87b1226c0a02a49f40",
            "c0e1bfff3b32431e95d4e4878cb3b43d",
            "0420b2e237fc434dac9b9120e23a4cfd",
            "2f42f70e5a794644a10345f82ac3f333",
            "60fba8ca47134cb4b4439eb7450a1720",
            "c44d7d79576f4dd085e8caaa9c8876d2"
          ]
        },
        "id": "vbvb81Y_vgrJ",
        "outputId": "68de5c6d-604d-43c2-c38b-1f628d4e3c6f"
      },
      "execution_count": 34,
      "outputs": [
        {
          "output_type": "display_data",
          "data": {
            "text/plain": [
              "AudioRecorder(audio=Audio(value=b'', format='webm'), stream=CameraStream(constraints={'audio': True, 'video': …"
            ],
            "application/vnd.jupyter.widget-view+json": {
              "version_major": 2,
              "version_minor": 0,
              "model_id": "001da1539a854d87b1226c0a02a49f40"
            }
          },
          "metadata": {
            "application/vnd.jupyter.widget-view+json": {
              "colab": {
                "custom_widget_manager": {
                  "url": "https://ssl.gstatic.com/colaboratory-static/widgets/colab-cdn-widget-manager/2b70e893a8ba7c0f/manager.min.js"
                }
              }
            }
          }
        }
      ]
    },
    {
      "cell_type": "code",
      "source": [
        "recorder.save('test.wav')\n"
      ],
      "metadata": {
        "id": "3WGXDT4g4Nc3"
      },
      "execution_count": 35,
      "outputs": []
    },
    {
      "cell_type": "markdown",
      "source": [
        "!ffmpeg -i /content/2.webm /content/2.wav"
      ],
      "metadata": {
        "id": "qyjxSgI64gOD"
      }
    },
    {
      "cell_type": "code",
      "source": [
        "import requests\n",
        "import os\n",
        "\n",
        "os.environ['API_KEY'] = \"b1afee3b-c36c-4abf-8c35-5aeec8cba897\"\n",
        "\n",
        "# Load your .wav file\n",
        "with open('/content/test.wav', 'rb') as audio_file:\n",
        "    files = {\n",
        "        'file': ('test.wav', audio_file, 'audio/wav'),  # Specify the filename and content type\n",
        "    }\n",
        "    data = {\n",
        "        'prompt': '<string>',\n",
        "        'model': 'saaras:v1'\n",
        "    }\n",
        "\n",
        "    url = \"https://api.sarvam.ai/speech-to-text-translate\"\n",
        "    headers = {\n",
        "        \"API-Subscription-Key\": os.environ['API_KEY'],\n",
        "    }\n",
        "\n",
        "    response = requests.post(url, files=files, data=data, headers=headers)\n",
        "\n",
        "print(response.text)\n"
      ],
      "metadata": {
        "colab": {
          "base_uri": "https://localhost:8080/"
        },
        "id": "5NAQg4sE2E6p",
        "outputId": "409d4f98-e590-447c-a9ec-b0dc31678ea9"
      },
      "execution_count": 36,
      "outputs": [
        {
          "output_type": "stream",
          "name": "stdout",
          "text": [
            "{\"transcript\":\"Hi, what is sound?\",\"language_code\":null}\n"
          ]
        }
      ]
    },
    {
      "cell_type": "code",
      "source": [
        "import json\n",
        "\n",
        "# Assuming response.text contains the JSON string\n",
        "data = json.loads(response.text)\n",
        "\n",
        "# Now you can extract the transcript\n",
        "transcript = data[\"transcript\"]\n",
        "transcript"
      ],
      "metadata": {
        "colab": {
          "base_uri": "https://localhost:8080/",
          "height": 36
        },
        "id": "uhgfhbtI5MNR",
        "outputId": "69b67141-f5bb-45b7-ff54-30e71172f061"
      },
      "execution_count": 37,
      "outputs": [
        {
          "output_type": "execute_result",
          "data": {
            "text/plain": [
              "'Hi, what is sound?'"
            ],
            "application/vnd.google.colaboratory.intrinsic+json": {
              "type": "string"
            }
          },
          "metadata": {},
          "execution_count": 37
        }
      ]
    },
    {
      "cell_type": "code",
      "source": [
        "!pip install streamlit"
      ],
      "metadata": {
        "colab": {
          "base_uri": "https://localhost:8080/"
        },
        "collapsed": true,
        "id": "NgQoTVo98eoU",
        "outputId": "ec4700af-77f5-4470-c82e-f3566d1706af"
      },
      "execution_count": null,
      "outputs": [
        {
          "output_type": "stream",
          "name": "stdout",
          "text": [
            "Collecting streamlit\n",
            "  Downloading streamlit-1.38.0-py2.py3-none-any.whl.metadata (8.5 kB)\n",
            "Requirement already satisfied: altair<6,>=4.0 in /usr/local/lib/python3.10/dist-packages (from streamlit) (4.2.2)\n",
            "Requirement already satisfied: blinker<2,>=1.0.0 in /usr/lib/python3/dist-packages (from streamlit) (1.4)\n",
            "Requirement already satisfied: cachetools<6,>=4.0 in /usr/local/lib/python3.10/dist-packages (from streamlit) (5.5.0)\n",
            "Requirement already satisfied: click<9,>=7.0 in /usr/local/lib/python3.10/dist-packages (from streamlit) (8.1.7)\n",
            "Requirement already satisfied: numpy<3,>=1.20 in /usr/local/lib/python3.10/dist-packages (from streamlit) (1.26.4)\n",
            "Requirement already satisfied: packaging<25,>=20 in /usr/local/lib/python3.10/dist-packages (from streamlit) (24.1)\n",
            "Requirement already satisfied: pandas<3,>=1.3.0 in /usr/local/lib/python3.10/dist-packages (from streamlit) (2.1.4)\n",
            "Requirement already satisfied: pillow<11,>=7.1.0 in /usr/local/lib/python3.10/dist-packages (from streamlit) (10.4.0)\n",
            "Requirement already satisfied: protobuf<6,>=3.20 in /usr/local/lib/python3.10/dist-packages (from streamlit) (3.20.3)\n",
            "Requirement already satisfied: pyarrow>=7.0 in /usr/local/lib/python3.10/dist-packages (from streamlit) (14.0.2)\n",
            "Requirement already satisfied: requests<3,>=2.27 in /usr/local/lib/python3.10/dist-packages (from streamlit) (2.32.3)\n",
            "Requirement already satisfied: rich<14,>=10.14.0 in /usr/local/lib/python3.10/dist-packages (from streamlit) (13.8.1)\n",
            "Requirement already satisfied: tenacity<9,>=8.1.0 in /usr/local/lib/python3.10/dist-packages (from streamlit) (8.5.0)\n",
            "Requirement already satisfied: toml<2,>=0.10.1 in /usr/local/lib/python3.10/dist-packages (from streamlit) (0.10.2)\n",
            "Requirement already satisfied: typing-extensions<5,>=4.3.0 in /usr/local/lib/python3.10/dist-packages (from streamlit) (4.12.2)\n",
            "Collecting gitpython!=3.1.19,<4,>=3.0.7 (from streamlit)\n",
            "  Downloading GitPython-3.1.43-py3-none-any.whl.metadata (13 kB)\n",
            "Collecting pydeck<1,>=0.8.0b4 (from streamlit)\n",
            "  Downloading pydeck-0.9.1-py2.py3-none-any.whl.metadata (4.1 kB)\n",
            "Requirement already satisfied: tornado<7,>=6.0.3 in /usr/local/lib/python3.10/dist-packages (from streamlit) (6.3.3)\n",
            "Collecting watchdog<5,>=2.1.5 (from streamlit)\n",
            "  Downloading watchdog-4.0.2-py3-none-manylinux2014_x86_64.whl.metadata (38 kB)\n",
            "Requirement already satisfied: entrypoints in /usr/local/lib/python3.10/dist-packages (from altair<6,>=4.0->streamlit) (0.4)\n",
            "Requirement already satisfied: jinja2 in /usr/local/lib/python3.10/dist-packages (from altair<6,>=4.0->streamlit) (3.1.4)\n",
            "Requirement already satisfied: jsonschema>=3.0 in /usr/local/lib/python3.10/dist-packages (from altair<6,>=4.0->streamlit) (4.23.0)\n",
            "Requirement already satisfied: toolz in /usr/local/lib/python3.10/dist-packages (from altair<6,>=4.0->streamlit) (0.12.1)\n",
            "Collecting gitdb<5,>=4.0.1 (from gitpython!=3.1.19,<4,>=3.0.7->streamlit)\n",
            "  Downloading gitdb-4.0.11-py3-none-any.whl.metadata (1.2 kB)\n",
            "Requirement already satisfied: python-dateutil>=2.8.2 in /usr/local/lib/python3.10/dist-packages (from pandas<3,>=1.3.0->streamlit) (2.8.2)\n",
            "Requirement already satisfied: pytz>=2020.1 in /usr/local/lib/python3.10/dist-packages (from pandas<3,>=1.3.0->streamlit) (2024.2)\n",
            "Requirement already satisfied: tzdata>=2022.1 in /usr/local/lib/python3.10/dist-packages (from pandas<3,>=1.3.0->streamlit) (2024.1)\n",
            "Requirement already satisfied: charset-normalizer<4,>=2 in /usr/local/lib/python3.10/dist-packages (from requests<3,>=2.27->streamlit) (3.3.2)\n",
            "Requirement already satisfied: idna<4,>=2.5 in /usr/local/lib/python3.10/dist-packages (from requests<3,>=2.27->streamlit) (3.10)\n",
            "Requirement already satisfied: urllib3<3,>=1.21.1 in /usr/local/lib/python3.10/dist-packages (from requests<3,>=2.27->streamlit) (2.0.7)\n",
            "Requirement already satisfied: certifi>=2017.4.17 in /usr/local/lib/python3.10/dist-packages (from requests<3,>=2.27->streamlit) (2024.8.30)\n",
            "Requirement already satisfied: markdown-it-py>=2.2.0 in /usr/local/lib/python3.10/dist-packages (from rich<14,>=10.14.0->streamlit) (3.0.0)\n",
            "Requirement already satisfied: pygments<3.0.0,>=2.13.0 in /usr/local/lib/python3.10/dist-packages (from rich<14,>=10.14.0->streamlit) (2.18.0)\n",
            "Collecting smmap<6,>=3.0.1 (from gitdb<5,>=4.0.1->gitpython!=3.1.19,<4,>=3.0.7->streamlit)\n",
            "  Downloading smmap-5.0.1-py3-none-any.whl.metadata (4.3 kB)\n",
            "Requirement already satisfied: MarkupSafe>=2.0 in /usr/local/lib/python3.10/dist-packages (from jinja2->altair<6,>=4.0->streamlit) (2.1.5)\n",
            "Requirement already satisfied: attrs>=22.2.0 in /usr/local/lib/python3.10/dist-packages (from jsonschema>=3.0->altair<6,>=4.0->streamlit) (24.2.0)\n",
            "Requirement already satisfied: jsonschema-specifications>=2023.03.6 in /usr/local/lib/python3.10/dist-packages (from jsonschema>=3.0->altair<6,>=4.0->streamlit) (2023.12.1)\n",
            "Requirement already satisfied: referencing>=0.28.4 in /usr/local/lib/python3.10/dist-packages (from jsonschema>=3.0->altair<6,>=4.0->streamlit) (0.35.1)\n",
            "Requirement already satisfied: rpds-py>=0.7.1 in /usr/local/lib/python3.10/dist-packages (from jsonschema>=3.0->altair<6,>=4.0->streamlit) (0.20.0)\n",
            "Requirement already satisfied: mdurl~=0.1 in /usr/local/lib/python3.10/dist-packages (from markdown-it-py>=2.2.0->rich<14,>=10.14.0->streamlit) (0.1.2)\n",
            "Requirement already satisfied: six>=1.5 in /usr/local/lib/python3.10/dist-packages (from python-dateutil>=2.8.2->pandas<3,>=1.3.0->streamlit) (1.16.0)\n",
            "Downloading streamlit-1.38.0-py2.py3-none-any.whl (8.7 MB)\n",
            "\u001b[2K   \u001b[90m━━━━━━━━━━━━━━━━━━━━━━━━━━━━━━━━━━━━━━━━\u001b[0m \u001b[32m8.7/8.7 MB\u001b[0m \u001b[31m93.9 MB/s\u001b[0m eta \u001b[36m0:00:00\u001b[0m\n",
            "\u001b[?25hDownloading GitPython-3.1.43-py3-none-any.whl (207 kB)\n",
            "\u001b[2K   \u001b[90m━━━━━━━━━━━━━━━━━━━━━━━━━━━━━━━━━━━━━━━━\u001b[0m \u001b[32m207.3/207.3 kB\u001b[0m \u001b[31m17.2 MB/s\u001b[0m eta \u001b[36m0:00:00\u001b[0m\n",
            "\u001b[?25hDownloading pydeck-0.9.1-py2.py3-none-any.whl (6.9 MB)\n",
            "\u001b[2K   \u001b[90m━━━━━━━━━━━━━━━━━━━━━━━━━━━━━━━━━━━━━━━━\u001b[0m \u001b[32m6.9/6.9 MB\u001b[0m \u001b[31m94.3 MB/s\u001b[0m eta \u001b[36m0:00:00\u001b[0m\n",
            "\u001b[?25hDownloading watchdog-4.0.2-py3-none-manylinux2014_x86_64.whl (82 kB)\n",
            "\u001b[2K   \u001b[90m━━━━━━━━━━━━━━━━━━━━━━━━━━━━━━━━━━━━━━━━\u001b[0m \u001b[32m82.9/82.9 kB\u001b[0m \u001b[31m7.7 MB/s\u001b[0m eta \u001b[36m0:00:00\u001b[0m\n",
            "\u001b[?25hDownloading gitdb-4.0.11-py3-none-any.whl (62 kB)\n",
            "\u001b[2K   \u001b[90m━━━━━━━━━━━━━━━━━━━━━━━━━━━━━━━━━━━━━━━━\u001b[0m \u001b[32m62.7/62.7 kB\u001b[0m \u001b[31m5.5 MB/s\u001b[0m eta \u001b[36m0:00:00\u001b[0m\n",
            "\u001b[?25hDownloading smmap-5.0.1-py3-none-any.whl (24 kB)\n",
            "Installing collected packages: watchdog, smmap, pydeck, gitdb, gitpython, streamlit\n",
            "Successfully installed gitdb-4.0.11 gitpython-3.1.43 pydeck-0.9.1 smmap-5.0.1 streamlit-1.38.0 watchdog-4.0.2\n"
          ]
        }
      ]
    },
    {
      "cell_type": "code",
      "source": [
        "import streamlit as st\n",
        "\n",
        "# Streamlit interface\n",
        "st.title(\"Smart RAG Agent with Voice Integration\")\n",
        "\n",
        "# Text input for the user query\n",
        "query = st.text_input(\"Enter your question:\")\n",
        "\n",
        "if st.button(\"Submit\"):\n",
        "    if query:\n",
        "      try:\n",
        "        # Get agent's response\n",
        "        response = query_rag_chain(query)\n",
        "        st.write(f\"Response: {response}\")\n",
        "\n",
        "      except Exception as e:\n",
        "        st.error(f\"An error occurred: {e}\")"
      ],
      "metadata": {
        "colab": {
          "base_uri": "https://localhost:8080/",
          "height": 403
        },
        "id": "ROcGnnSj8U1L",
        "outputId": "811897ad-b8d0-4048-e54d-14f27f952554",
        "collapsed": true
      },
      "execution_count": 38,
      "outputs": [
        {
          "output_type": "error",
          "ename": "ModuleNotFoundError",
          "evalue": "No module named 'streamlit'",
          "traceback": [
            "\u001b[0;31m---------------------------------------------------------------------------\u001b[0m",
            "\u001b[0;31mModuleNotFoundError\u001b[0m                       Traceback (most recent call last)",
            "\u001b[0;32m<ipython-input-38-e7d6caa87d80>\u001b[0m in \u001b[0;36m<cell line: 1>\u001b[0;34m()\u001b[0m\n\u001b[0;32m----> 1\u001b[0;31m \u001b[0;32mimport\u001b[0m \u001b[0mstreamlit\u001b[0m \u001b[0;32mas\u001b[0m \u001b[0mst\u001b[0m\u001b[0;34m\u001b[0m\u001b[0;34m\u001b[0m\u001b[0m\n\u001b[0m\u001b[1;32m      2\u001b[0m \u001b[0;34m\u001b[0m\u001b[0m\n\u001b[1;32m      3\u001b[0m \u001b[0;31m# Streamlit interface\u001b[0m\u001b[0;34m\u001b[0m\u001b[0;34m\u001b[0m\u001b[0m\n\u001b[1;32m      4\u001b[0m \u001b[0mst\u001b[0m\u001b[0;34m.\u001b[0m\u001b[0mtitle\u001b[0m\u001b[0;34m(\u001b[0m\u001b[0;34m\"Smart RAG Agent with Voice Integration\"\u001b[0m\u001b[0;34m)\u001b[0m\u001b[0;34m\u001b[0m\u001b[0;34m\u001b[0m\u001b[0m\n\u001b[1;32m      5\u001b[0m \u001b[0;34m\u001b[0m\u001b[0m\n",
            "\u001b[0;31mModuleNotFoundError\u001b[0m: No module named 'streamlit'",
            "",
            "\u001b[0;31m---------------------------------------------------------------------------\u001b[0;32m\nNOTE: If your import is failing due to a missing package, you can\nmanually install dependencies using either !pip or !apt.\n\nTo view examples of installing some common dependencies, click the\n\"Open Examples\" button below.\n\u001b[0;31m---------------------------------------------------------------------------\u001b[0m\n"
          ],
          "errorDetails": {
            "actions": [
              {
                "action": "open_url",
                "actionText": "Open Examples",
                "url": "/notebooks/snippets/importing_libraries.ipynb"
              }
            ]
          }
        }
      ]
    }
  ],
  "metadata": {
    "colab": {
      "provenance": [],
      "gpuType": "T4"
    },
    "kernelspec": {
      "display_name": "Python 3",
      "name": "python3"
    },
    "language_info": {
      "name": "python"
    },
    "widgets": {
      "application/vnd.jupyter.widget-state+json": {
        "001da1539a854d87b1226c0a02a49f40": {
          "model_module": "jupyter-webrtc",
          "model_name": "AudioRecorderModel",
          "model_module_version": "~0.6.0",
          "state": {
            "_data_src": "blob:https://yc1nquy8x4l-496ff2e9c6d22116-0-colab.googleusercontent.com/6cd09322-a81b-4a25-b8d3-734d303754c1",
            "_dom_classes": [],
            "_model_module": "jupyter-webrtc",
            "_model_module_version": "~0.6.0",
            "_model_name": "AudioRecorderModel",
            "_view_count": null,
            "_view_module": "jupyter-webrtc",
            "_view_module_version": "~0.6.0",
            "_view_name": "AudioRecorderView",
            "audio": "IPY_MODEL_c0e1bfff3b32431e95d4e4878cb3b43d",
            "autosave": false,
            "codecs": "",
            "filename": "record",
            "format": "webm",
            "layout": "IPY_MODEL_0420b2e237fc434dac9b9120e23a4cfd",
            "recording": false,
            "stream": "IPY_MODEL_2f42f70e5a794644a10345f82ac3f333"
          }
        },
        "c0e1bfff3b32431e95d4e4878cb3b43d": {
          "model_module": "@jupyter-widgets/controls",
          "model_name": "AudioModel",
          "model_module_version": "1.5.0",
          "state": {
            "_dom_classes": [],
            "_model_module": "@jupyter-widgets/controls",
            "_model_module_version": "1.5.0",
            "_model_name": "AudioModel",
            "_view_count": null,
            "_view_module": "@jupyter-widgets/controls",
            "_view_module_version": "1.5.0",
            "_view_name": "AudioView",
            "autoplay": true,
            "controls": true,
            "format": "webm",
            "layout": "IPY_MODEL_60fba8ca47134cb4b4439eb7450a1720",
            "loop": true
          }
        },
        "0420b2e237fc434dac9b9120e23a4cfd": {
          "model_module": "@jupyter-widgets/base",
          "model_name": "LayoutModel",
          "model_module_version": "1.2.0",
          "state": {
            "_model_module": "@jupyter-widgets/base",
            "_model_module_version": "1.2.0",
            "_model_name": "LayoutModel",
            "_view_count": null,
            "_view_module": "@jupyter-widgets/base",
            "_view_module_version": "1.2.0",
            "_view_name": "LayoutView",
            "align_content": null,
            "align_items": null,
            "align_self": null,
            "border": null,
            "bottom": null,
            "display": null,
            "flex": null,
            "flex_flow": null,
            "grid_area": null,
            "grid_auto_columns": null,
            "grid_auto_flow": null,
            "grid_auto_rows": null,
            "grid_column": null,
            "grid_gap": null,
            "grid_row": null,
            "grid_template_areas": null,
            "grid_template_columns": null,
            "grid_template_rows": null,
            "height": null,
            "justify_content": null,
            "justify_items": null,
            "left": null,
            "margin": null,
            "max_height": null,
            "max_width": null,
            "min_height": null,
            "min_width": null,
            "object_fit": null,
            "object_position": null,
            "order": null,
            "overflow": null,
            "overflow_x": null,
            "overflow_y": null,
            "padding": null,
            "right": null,
            "top": null,
            "visibility": null,
            "width": null
          }
        },
        "2f42f70e5a794644a10345f82ac3f333": {
          "model_module": "jupyter-webrtc",
          "model_name": "CameraStreamModel",
          "model_module_version": "~0.6.0",
          "state": {
            "_dom_classes": [],
            "_model_module": "jupyter-webrtc",
            "_model_module_version": "~0.6.0",
            "_model_name": "CameraStreamModel",
            "_view_count": null,
            "_view_module": "jupyter-webrtc",
            "_view_module_version": "~0.6.0",
            "_view_name": "MediaStreamView",
            "constraints": {
              "audio": true,
              "video": false
            },
            "layout": "IPY_MODEL_c44d7d79576f4dd085e8caaa9c8876d2"
          }
        },
        "60fba8ca47134cb4b4439eb7450a1720": {
          "model_module": "@jupyter-widgets/base",
          "model_name": "LayoutModel",
          "model_module_version": "1.2.0",
          "state": {
            "_model_module": "@jupyter-widgets/base",
            "_model_module_version": "1.2.0",
            "_model_name": "LayoutModel",
            "_view_count": null,
            "_view_module": "@jupyter-widgets/base",
            "_view_module_version": "1.2.0",
            "_view_name": "LayoutView",
            "align_content": null,
            "align_items": null,
            "align_self": null,
            "border": null,
            "bottom": null,
            "display": null,
            "flex": null,
            "flex_flow": null,
            "grid_area": null,
            "grid_auto_columns": null,
            "grid_auto_flow": null,
            "grid_auto_rows": null,
            "grid_column": null,
            "grid_gap": null,
            "grid_row": null,
            "grid_template_areas": null,
            "grid_template_columns": null,
            "grid_template_rows": null,
            "height": null,
            "justify_content": null,
            "justify_items": null,
            "left": null,
            "margin": null,
            "max_height": null,
            "max_width": null,
            "min_height": null,
            "min_width": null,
            "object_fit": null,
            "object_position": null,
            "order": null,
            "overflow": null,
            "overflow_x": null,
            "overflow_y": null,
            "padding": null,
            "right": null,
            "top": null,
            "visibility": null,
            "width": null
          }
        },
        "c44d7d79576f4dd085e8caaa9c8876d2": {
          "model_module": "@jupyter-widgets/base",
          "model_name": "LayoutModel",
          "model_module_version": "1.2.0",
          "state": {
            "_model_module": "@jupyter-widgets/base",
            "_model_module_version": "1.2.0",
            "_model_name": "LayoutModel",
            "_view_count": null,
            "_view_module": "@jupyter-widgets/base",
            "_view_module_version": "1.2.0",
            "_view_name": "LayoutView",
            "align_content": null,
            "align_items": null,
            "align_self": null,
            "border": null,
            "bottom": null,
            "display": null,
            "flex": null,
            "flex_flow": null,
            "grid_area": null,
            "grid_auto_columns": null,
            "grid_auto_flow": null,
            "grid_auto_rows": null,
            "grid_column": null,
            "grid_gap": null,
            "grid_row": null,
            "grid_template_areas": null,
            "grid_template_columns": null,
            "grid_template_rows": null,
            "height": null,
            "justify_content": null,
            "justify_items": null,
            "left": null,
            "margin": null,
            "max_height": null,
            "max_width": null,
            "min_height": null,
            "min_width": null,
            "object_fit": null,
            "object_position": null,
            "order": null,
            "overflow": null,
            "overflow_x": null,
            "overflow_y": null,
            "padding": null,
            "right": null,
            "top": null,
            "visibility": null,
            "width": null
          }
        }
      }
    },
    "accelerator": "GPU"
  },
  "nbformat": 4,
  "nbformat_minor": 0
}